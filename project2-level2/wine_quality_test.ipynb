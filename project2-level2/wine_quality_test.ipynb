{
 "cells": [
  {
   "cell_type": "markdown",
   "id": "c081f2f7-7fde-47b3-9d27-9137aed69107",
   "metadata": {},
   "source": [
    "# WINE QUALITY TEST "
   ]
  },
  {
   "cell_type": "markdown",
   "id": "9a197b81-3bb8-4890-8d8c-b8f46972faa9",
   "metadata": {},
   "source": [
    "# BY: ALIMI AFEEZ OLALEKAN"
   ]
  },
  {
   "cell_type": "code",
   "execution_count": 1,
   "id": "e0a5d84f-0aa8-4eec-aeb4-2f40d9d0e427",
   "metadata": {},
   "outputs": [
    {
     "data": {
      "text/html": [
       "<div>\n",
       "<style scoped>\n",
       "    .dataframe tbody tr th:only-of-type {\n",
       "        vertical-align: middle;\n",
       "    }\n",
       "\n",
       "    .dataframe tbody tr th {\n",
       "        vertical-align: top;\n",
       "    }\n",
       "\n",
       "    .dataframe thead th {\n",
       "        text-align: right;\n",
       "    }\n",
       "</style>\n",
       "<table border=\"1\" class=\"dataframe\">\n",
       "  <thead>\n",
       "    <tr style=\"text-align: right;\">\n",
       "      <th></th>\n",
       "      <th>fixed acidity</th>\n",
       "      <th>volatile acidity</th>\n",
       "      <th>citric acid</th>\n",
       "      <th>residual sugar</th>\n",
       "      <th>chlorides</th>\n",
       "      <th>free sulfur dioxide</th>\n",
       "      <th>total sulfur dioxide</th>\n",
       "      <th>density</th>\n",
       "      <th>pH</th>\n",
       "      <th>sulphates</th>\n",
       "      <th>alcohol</th>\n",
       "      <th>quality</th>\n",
       "      <th>Id</th>\n",
       "    </tr>\n",
       "  </thead>\n",
       "  <tbody>\n",
       "    <tr>\n",
       "      <th>0</th>\n",
       "      <td>7.4</td>\n",
       "      <td>0.70</td>\n",
       "      <td>0.00</td>\n",
       "      <td>1.9</td>\n",
       "      <td>0.076</td>\n",
       "      <td>11.0</td>\n",
       "      <td>34.0</td>\n",
       "      <td>0.9978</td>\n",
       "      <td>3.51</td>\n",
       "      <td>0.56</td>\n",
       "      <td>9.4</td>\n",
       "      <td>5</td>\n",
       "      <td>0</td>\n",
       "    </tr>\n",
       "    <tr>\n",
       "      <th>1</th>\n",
       "      <td>7.8</td>\n",
       "      <td>0.88</td>\n",
       "      <td>0.00</td>\n",
       "      <td>2.6</td>\n",
       "      <td>0.098</td>\n",
       "      <td>25.0</td>\n",
       "      <td>67.0</td>\n",
       "      <td>0.9968</td>\n",
       "      <td>3.20</td>\n",
       "      <td>0.68</td>\n",
       "      <td>9.8</td>\n",
       "      <td>5</td>\n",
       "      <td>1</td>\n",
       "    </tr>\n",
       "    <tr>\n",
       "      <th>2</th>\n",
       "      <td>7.8</td>\n",
       "      <td>0.76</td>\n",
       "      <td>0.04</td>\n",
       "      <td>2.3</td>\n",
       "      <td>0.092</td>\n",
       "      <td>15.0</td>\n",
       "      <td>54.0</td>\n",
       "      <td>0.9970</td>\n",
       "      <td>3.26</td>\n",
       "      <td>0.65</td>\n",
       "      <td>9.8</td>\n",
       "      <td>5</td>\n",
       "      <td>2</td>\n",
       "    </tr>\n",
       "    <tr>\n",
       "      <th>3</th>\n",
       "      <td>11.2</td>\n",
       "      <td>0.28</td>\n",
       "      <td>0.56</td>\n",
       "      <td>1.9</td>\n",
       "      <td>0.075</td>\n",
       "      <td>17.0</td>\n",
       "      <td>60.0</td>\n",
       "      <td>0.9980</td>\n",
       "      <td>3.16</td>\n",
       "      <td>0.58</td>\n",
       "      <td>9.8</td>\n",
       "      <td>6</td>\n",
       "      <td>3</td>\n",
       "    </tr>\n",
       "    <tr>\n",
       "      <th>4</th>\n",
       "      <td>7.4</td>\n",
       "      <td>0.70</td>\n",
       "      <td>0.00</td>\n",
       "      <td>1.9</td>\n",
       "      <td>0.076</td>\n",
       "      <td>11.0</td>\n",
       "      <td>34.0</td>\n",
       "      <td>0.9978</td>\n",
       "      <td>3.51</td>\n",
       "      <td>0.56</td>\n",
       "      <td>9.4</td>\n",
       "      <td>5</td>\n",
       "      <td>4</td>\n",
       "    </tr>\n",
       "  </tbody>\n",
       "</table>\n",
       "</div>"
      ],
      "text/plain": [
       "   fixed acidity  volatile acidity  citric acid  residual sugar  chlorides  \\\n",
       "0            7.4              0.70         0.00             1.9      0.076   \n",
       "1            7.8              0.88         0.00             2.6      0.098   \n",
       "2            7.8              0.76         0.04             2.3      0.092   \n",
       "3           11.2              0.28         0.56             1.9      0.075   \n",
       "4            7.4              0.70         0.00             1.9      0.076   \n",
       "\n",
       "   free sulfur dioxide  total sulfur dioxide  density    pH  sulphates  \\\n",
       "0                 11.0                  34.0   0.9978  3.51       0.56   \n",
       "1                 25.0                  67.0   0.9968  3.20       0.68   \n",
       "2                 15.0                  54.0   0.9970  3.26       0.65   \n",
       "3                 17.0                  60.0   0.9980  3.16       0.58   \n",
       "4                 11.0                  34.0   0.9978  3.51       0.56   \n",
       "\n",
       "   alcohol  quality  Id  \n",
       "0      9.4        5   0  \n",
       "1      9.8        5   1  \n",
       "2      9.8        5   2  \n",
       "3      9.8        6   3  \n",
       "4      9.4        5   4  "
      ]
     },
     "execution_count": 1,
     "metadata": {},
     "output_type": "execute_result"
    }
   ],
   "source": [
    "#Importing Library\n",
    "import pandas as pd\n",
    "import numpy as np\n",
    "\n",
    "#Importing the dataset\n",
    "data_path = \"C:/Users/Alimi Nimotalahi/Desktop/Oasis Infobyte/WineQualityTest/WineQT.csv\"\n",
    "#print(data_path)\n",
    "data = pd.read_csv(data_path)\n",
    "data.head()"
   ]
  },
  {
   "cell_type": "code",
   "execution_count": 2,
   "id": "3009df11-b7c2-4c35-8d95-cad903b0b982",
   "metadata": {},
   "outputs": [
    {
     "data": {
      "text/plain": [
       "(1143, 13)"
      ]
     },
     "execution_count": 2,
     "metadata": {},
     "output_type": "execute_result"
    }
   ],
   "source": [
    "#row and column of the dataset\n",
    "data.shape"
   ]
  },
  {
   "cell_type": "code",
   "execution_count": 3,
   "id": "4a9b3a3f-e639-4748-8aca-0df999b90565",
   "metadata": {},
   "outputs": [
    {
     "name": "stdout",
     "output_type": "stream",
     "text": [
      "<class 'pandas.core.frame.DataFrame'>\n",
      "RangeIndex: 1143 entries, 0 to 1142\n",
      "Data columns (total 13 columns):\n",
      " #   Column                Non-Null Count  Dtype  \n",
      "---  ------                --------------  -----  \n",
      " 0   fixed acidity         1143 non-null   float64\n",
      " 1   volatile acidity      1143 non-null   float64\n",
      " 2   citric acid           1143 non-null   float64\n",
      " 3   residual sugar        1143 non-null   float64\n",
      " 4   chlorides             1143 non-null   float64\n",
      " 5   free sulfur dioxide   1143 non-null   float64\n",
      " 6   total sulfur dioxide  1143 non-null   float64\n",
      " 7   density               1143 non-null   float64\n",
      " 8   pH                    1143 non-null   float64\n",
      " 9   sulphates             1143 non-null   float64\n",
      " 10  alcohol               1143 non-null   float64\n",
      " 11  quality               1143 non-null   int64  \n",
      " 12  Id                    1143 non-null   int64  \n",
      "dtypes: float64(11), int64(2)\n",
      "memory usage: 116.2 KB\n"
     ]
    }
   ],
   "source": [
    "#get data information\n",
    "data.info()"
   ]
  },
  {
   "cell_type": "code",
   "execution_count": 4,
   "id": "41298e25-1d1e-4d4c-a7e9-c4207c362457",
   "metadata": {},
   "outputs": [
    {
     "data": {
      "text/html": [
       "<div>\n",
       "<style scoped>\n",
       "    .dataframe tbody tr th:only-of-type {\n",
       "        vertical-align: middle;\n",
       "    }\n",
       "\n",
       "    .dataframe tbody tr th {\n",
       "        vertical-align: top;\n",
       "    }\n",
       "\n",
       "    .dataframe thead th {\n",
       "        text-align: right;\n",
       "    }\n",
       "</style>\n",
       "<table border=\"1\" class=\"dataframe\">\n",
       "  <thead>\n",
       "    <tr style=\"text-align: right;\">\n",
       "      <th></th>\n",
       "      <th>fixed acidity</th>\n",
       "      <th>volatile acidity</th>\n",
       "      <th>citric acid</th>\n",
       "      <th>residual sugar</th>\n",
       "      <th>chlorides</th>\n",
       "      <th>free sulfur dioxide</th>\n",
       "      <th>total sulfur dioxide</th>\n",
       "      <th>density</th>\n",
       "      <th>pH</th>\n",
       "      <th>sulphates</th>\n",
       "      <th>alcohol</th>\n",
       "      <th>quality</th>\n",
       "      <th>Id</th>\n",
       "    </tr>\n",
       "  </thead>\n",
       "  <tbody>\n",
       "    <tr>\n",
       "      <th>count</th>\n",
       "      <td>1143.000000</td>\n",
       "      <td>1143.000000</td>\n",
       "      <td>1143.000000</td>\n",
       "      <td>1143.000000</td>\n",
       "      <td>1143.000000</td>\n",
       "      <td>1143.000000</td>\n",
       "      <td>1143.000000</td>\n",
       "      <td>1143.000000</td>\n",
       "      <td>1143.000000</td>\n",
       "      <td>1143.000000</td>\n",
       "      <td>1143.000000</td>\n",
       "      <td>1143.000000</td>\n",
       "      <td>1143.000000</td>\n",
       "    </tr>\n",
       "    <tr>\n",
       "      <th>mean</th>\n",
       "      <td>8.311111</td>\n",
       "      <td>0.531339</td>\n",
       "      <td>0.268364</td>\n",
       "      <td>2.532152</td>\n",
       "      <td>0.086933</td>\n",
       "      <td>15.615486</td>\n",
       "      <td>45.914698</td>\n",
       "      <td>0.996730</td>\n",
       "      <td>3.311015</td>\n",
       "      <td>0.657708</td>\n",
       "      <td>10.442111</td>\n",
       "      <td>5.657043</td>\n",
       "      <td>804.969379</td>\n",
       "    </tr>\n",
       "    <tr>\n",
       "      <th>std</th>\n",
       "      <td>1.747595</td>\n",
       "      <td>0.179633</td>\n",
       "      <td>0.196686</td>\n",
       "      <td>1.355917</td>\n",
       "      <td>0.047267</td>\n",
       "      <td>10.250486</td>\n",
       "      <td>32.782130</td>\n",
       "      <td>0.001925</td>\n",
       "      <td>0.156664</td>\n",
       "      <td>0.170399</td>\n",
       "      <td>1.082196</td>\n",
       "      <td>0.805824</td>\n",
       "      <td>463.997116</td>\n",
       "    </tr>\n",
       "    <tr>\n",
       "      <th>min</th>\n",
       "      <td>4.600000</td>\n",
       "      <td>0.120000</td>\n",
       "      <td>0.000000</td>\n",
       "      <td>0.900000</td>\n",
       "      <td>0.012000</td>\n",
       "      <td>1.000000</td>\n",
       "      <td>6.000000</td>\n",
       "      <td>0.990070</td>\n",
       "      <td>2.740000</td>\n",
       "      <td>0.330000</td>\n",
       "      <td>8.400000</td>\n",
       "      <td>3.000000</td>\n",
       "      <td>0.000000</td>\n",
       "    </tr>\n",
       "    <tr>\n",
       "      <th>25%</th>\n",
       "      <td>7.100000</td>\n",
       "      <td>0.392500</td>\n",
       "      <td>0.090000</td>\n",
       "      <td>1.900000</td>\n",
       "      <td>0.070000</td>\n",
       "      <td>7.000000</td>\n",
       "      <td>21.000000</td>\n",
       "      <td>0.995570</td>\n",
       "      <td>3.205000</td>\n",
       "      <td>0.550000</td>\n",
       "      <td>9.500000</td>\n",
       "      <td>5.000000</td>\n",
       "      <td>411.000000</td>\n",
       "    </tr>\n",
       "    <tr>\n",
       "      <th>50%</th>\n",
       "      <td>7.900000</td>\n",
       "      <td>0.520000</td>\n",
       "      <td>0.250000</td>\n",
       "      <td>2.200000</td>\n",
       "      <td>0.079000</td>\n",
       "      <td>13.000000</td>\n",
       "      <td>37.000000</td>\n",
       "      <td>0.996680</td>\n",
       "      <td>3.310000</td>\n",
       "      <td>0.620000</td>\n",
       "      <td>10.200000</td>\n",
       "      <td>6.000000</td>\n",
       "      <td>794.000000</td>\n",
       "    </tr>\n",
       "    <tr>\n",
       "      <th>75%</th>\n",
       "      <td>9.100000</td>\n",
       "      <td>0.640000</td>\n",
       "      <td>0.420000</td>\n",
       "      <td>2.600000</td>\n",
       "      <td>0.090000</td>\n",
       "      <td>21.000000</td>\n",
       "      <td>61.000000</td>\n",
       "      <td>0.997845</td>\n",
       "      <td>3.400000</td>\n",
       "      <td>0.730000</td>\n",
       "      <td>11.100000</td>\n",
       "      <td>6.000000</td>\n",
       "      <td>1209.500000</td>\n",
       "    </tr>\n",
       "    <tr>\n",
       "      <th>max</th>\n",
       "      <td>15.900000</td>\n",
       "      <td>1.580000</td>\n",
       "      <td>1.000000</td>\n",
       "      <td>15.500000</td>\n",
       "      <td>0.611000</td>\n",
       "      <td>68.000000</td>\n",
       "      <td>289.000000</td>\n",
       "      <td>1.003690</td>\n",
       "      <td>4.010000</td>\n",
       "      <td>2.000000</td>\n",
       "      <td>14.900000</td>\n",
       "      <td>8.000000</td>\n",
       "      <td>1597.000000</td>\n",
       "    </tr>\n",
       "  </tbody>\n",
       "</table>\n",
       "</div>"
      ],
      "text/plain": [
       "       fixed acidity  volatile acidity  citric acid  residual sugar  \\\n",
       "count    1143.000000       1143.000000  1143.000000     1143.000000   \n",
       "mean        8.311111          0.531339     0.268364        2.532152   \n",
       "std         1.747595          0.179633     0.196686        1.355917   \n",
       "min         4.600000          0.120000     0.000000        0.900000   \n",
       "25%         7.100000          0.392500     0.090000        1.900000   \n",
       "50%         7.900000          0.520000     0.250000        2.200000   \n",
       "75%         9.100000          0.640000     0.420000        2.600000   \n",
       "max        15.900000          1.580000     1.000000       15.500000   \n",
       "\n",
       "         chlorides  free sulfur dioxide  total sulfur dioxide      density  \\\n",
       "count  1143.000000          1143.000000           1143.000000  1143.000000   \n",
       "mean      0.086933            15.615486             45.914698     0.996730   \n",
       "std       0.047267            10.250486             32.782130     0.001925   \n",
       "min       0.012000             1.000000              6.000000     0.990070   \n",
       "25%       0.070000             7.000000             21.000000     0.995570   \n",
       "50%       0.079000            13.000000             37.000000     0.996680   \n",
       "75%       0.090000            21.000000             61.000000     0.997845   \n",
       "max       0.611000            68.000000            289.000000     1.003690   \n",
       "\n",
       "                pH    sulphates      alcohol      quality           Id  \n",
       "count  1143.000000  1143.000000  1143.000000  1143.000000  1143.000000  \n",
       "mean      3.311015     0.657708    10.442111     5.657043   804.969379  \n",
       "std       0.156664     0.170399     1.082196     0.805824   463.997116  \n",
       "min       2.740000     0.330000     8.400000     3.000000     0.000000  \n",
       "25%       3.205000     0.550000     9.500000     5.000000   411.000000  \n",
       "50%       3.310000     0.620000    10.200000     6.000000   794.000000  \n",
       "75%       3.400000     0.730000    11.100000     6.000000  1209.500000  \n",
       "max       4.010000     2.000000    14.900000     8.000000  1597.000000  "
      ]
     },
     "execution_count": 4,
     "metadata": {},
     "output_type": "execute_result"
    }
   ],
   "source": [
    "#describe the data based on statistical analysis\n",
    "data.describe()"
   ]
  },
  {
   "cell_type": "markdown",
   "id": "7a2eb95c-87ed-4956-b65e-ed6505d1c611",
   "metadata": {},
   "source": [
    "## COMMENT\n",
    "#1. NO DUPLICATE IN THE DATASET\n",
    "\n",
    "#2. NO NULL VALUES IN THE DATASET"
   ]
  },
  {
   "cell_type": "code",
   "execution_count": 5,
   "id": "5a825e1c-c379-4a88-92e8-18ddac8b5ca2",
   "metadata": {},
   "outputs": [
    {
     "data": {
      "text/plain": [
       "Index(['fixed acidity', 'volatile acidity', 'citric acid', 'residual sugar',\n",
       "       'chlorides', 'free sulfur dioxide', 'total sulfur dioxide', 'density',\n",
       "       'pH', 'sulphates', 'alcohol', 'quality', 'Id'],\n",
       "      dtype='object')"
      ]
     },
     "execution_count": 5,
     "metadata": {},
     "output_type": "execute_result"
    }
   ],
   "source": [
    "data.columns"
   ]
  },
  {
   "cell_type": "markdown",
   "id": "1e735521-f59f-4800-9f8b-f8b16e81b423",
   "metadata": {},
   "source": [
    "# How does \"fixed acidity\" affect quality of wine?"
   ]
  },
  {
   "cell_type": "code",
   "execution_count": 6,
   "id": "ec3472d5-cab2-45d1-b30f-0a8278a306a2",
   "metadata": {},
   "outputs": [
    {
     "data": {
      "text/plain": [
       "91"
      ]
     },
     "execution_count": 6,
     "metadata": {},
     "output_type": "execute_result"
    }
   ],
   "source": [
    "data[\"fixed acidity\"].nunique()"
   ]
  },
  {
   "cell_type": "code",
   "execution_count": 7,
   "id": "d8b0475c-668c-44e3-9063-713edb63964c",
   "metadata": {},
   "outputs": [
    {
     "data": {
      "text/html": [
       "<div>\n",
       "<style scoped>\n",
       "    .dataframe tbody tr th:only-of-type {\n",
       "        vertical-align: middle;\n",
       "    }\n",
       "\n",
       "    .dataframe tbody tr th {\n",
       "        vertical-align: top;\n",
       "    }\n",
       "\n",
       "    .dataframe thead th {\n",
       "        text-align: right;\n",
       "    }\n",
       "</style>\n",
       "<table border=\"1\" class=\"dataframe\">\n",
       "  <thead>\n",
       "    <tr style=\"text-align: right;\">\n",
       "      <th></th>\n",
       "      <th>fixed acidity</th>\n",
       "      <th>quality</th>\n",
       "    </tr>\n",
       "  </thead>\n",
       "  <tbody>\n",
       "    <tr>\n",
       "      <th>23</th>\n",
       "      <td>7.2</td>\n",
       "      <td>43</td>\n",
       "    </tr>\n",
       "    <tr>\n",
       "      <th>22</th>\n",
       "      <td>7.1</td>\n",
       "      <td>41</td>\n",
       "    </tr>\n",
       "    <tr>\n",
       "      <th>29</th>\n",
       "      <td>7.8</td>\n",
       "      <td>40</td>\n",
       "    </tr>\n",
       "    <tr>\n",
       "      <th>21</th>\n",
       "      <td>7.0</td>\n",
       "      <td>40</td>\n",
       "    </tr>\n",
       "    <tr>\n",
       "      <th>26</th>\n",
       "      <td>7.5</td>\n",
       "      <td>37</td>\n",
       "    </tr>\n",
       "    <tr>\n",
       "      <th>...</th>\n",
       "      <td>...</td>\n",
       "      <td>...</td>\n",
       "    </tr>\n",
       "    <tr>\n",
       "      <th>71</th>\n",
       "      <td>12.2</td>\n",
       "      <td>1</td>\n",
       "    </tr>\n",
       "    <tr>\n",
       "      <th>68</th>\n",
       "      <td>11.8</td>\n",
       "      <td>1</td>\n",
       "    </tr>\n",
       "    <tr>\n",
       "      <th>1</th>\n",
       "      <td>4.9</td>\n",
       "      <td>1</td>\n",
       "    </tr>\n",
       "    <tr>\n",
       "      <th>8</th>\n",
       "      <td>5.7</td>\n",
       "      <td>1</td>\n",
       "    </tr>\n",
       "    <tr>\n",
       "      <th>90</th>\n",
       "      <td>15.9</td>\n",
       "      <td>1</td>\n",
       "    </tr>\n",
       "  </tbody>\n",
       "</table>\n",
       "<p>91 rows × 2 columns</p>\n",
       "</div>"
      ],
      "text/plain": [
       "    fixed acidity  quality\n",
       "23            7.2       43\n",
       "22            7.1       41\n",
       "29            7.8       40\n",
       "21            7.0       40\n",
       "26            7.5       37\n",
       "..            ...      ...\n",
       "71           12.2        1\n",
       "68           11.8        1\n",
       "1             4.9        1\n",
       "8             5.7        1\n",
       "90           15.9        1\n",
       "\n",
       "[91 rows x 2 columns]"
      ]
     },
     "execution_count": 7,
     "metadata": {},
     "output_type": "execute_result"
    }
   ],
   "source": [
    "fixed_acidity_to_wine_quality = data.groupby(\"fixed acidity\")[\"quality\"].count().reset_index()\n",
    "fixed_acidity_to_wine_quality.sort_values(by= \"quality\", ascending = False)"
   ]
  },
  {
   "cell_type": "code",
   "execution_count": 8,
   "id": "36aadb3d-7c95-4afe-bb9f-acabb98d6a39",
   "metadata": {},
   "outputs": [
    {
     "data": {
      "text/html": [
       "<div>\n",
       "<style scoped>\n",
       "    .dataframe tbody tr th:only-of-type {\n",
       "        vertical-align: middle;\n",
       "    }\n",
       "\n",
       "    .dataframe tbody tr th {\n",
       "        vertical-align: top;\n",
       "    }\n",
       "\n",
       "    .dataframe thead th {\n",
       "        text-align: right;\n",
       "    }\n",
       "</style>\n",
       "<table border=\"1\" class=\"dataframe\">\n",
       "  <thead>\n",
       "    <tr style=\"text-align: right;\">\n",
       "      <th></th>\n",
       "      <th>fixed acidity</th>\n",
       "      <th>volatile acidity</th>\n",
       "      <th>citric acid</th>\n",
       "      <th>residual sugar</th>\n",
       "      <th>chlorides</th>\n",
       "      <th>free sulfur dioxide</th>\n",
       "      <th>total sulfur dioxide</th>\n",
       "      <th>density</th>\n",
       "      <th>pH</th>\n",
       "      <th>sulphates</th>\n",
       "      <th>alcohol</th>\n",
       "      <th>quality</th>\n",
       "      <th>Id</th>\n",
       "    </tr>\n",
       "  </thead>\n",
       "  <tbody>\n",
       "    <tr>\n",
       "      <th>45</th>\n",
       "      <td>7.2</td>\n",
       "      <td>0.725</td>\n",
       "      <td>0.05</td>\n",
       "      <td>4.65</td>\n",
       "      <td>0.086</td>\n",
       "      <td>4.0</td>\n",
       "      <td>11.0</td>\n",
       "      <td>0.9962</td>\n",
       "      <td>3.41</td>\n",
       "      <td>0.39</td>\n",
       "      <td>10.9</td>\n",
       "      <td>5</td>\n",
       "      <td>64</td>\n",
       "    </tr>\n",
       "    <tr>\n",
       "      <th>46</th>\n",
       "      <td>7.2</td>\n",
       "      <td>0.725</td>\n",
       "      <td>0.05</td>\n",
       "      <td>4.65</td>\n",
       "      <td>0.086</td>\n",
       "      <td>4.0</td>\n",
       "      <td>11.0</td>\n",
       "      <td>0.9962</td>\n",
       "      <td>3.41</td>\n",
       "      <td>0.39</td>\n",
       "      <td>10.9</td>\n",
       "      <td>5</td>\n",
       "      <td>65</td>\n",
       "    </tr>\n",
       "    <tr>\n",
       "      <th>73</th>\n",
       "      <td>7.2</td>\n",
       "      <td>0.490</td>\n",
       "      <td>0.24</td>\n",
       "      <td>2.20</td>\n",
       "      <td>0.070</td>\n",
       "      <td>5.0</td>\n",
       "      <td>36.0</td>\n",
       "      <td>0.9960</td>\n",
       "      <td>3.33</td>\n",
       "      <td>0.48</td>\n",
       "      <td>9.4</td>\n",
       "      <td>5</td>\n",
       "      <td>104</td>\n",
       "    </tr>\n",
       "    <tr>\n",
       "      <th>94</th>\n",
       "      <td>7.2</td>\n",
       "      <td>0.415</td>\n",
       "      <td>0.36</td>\n",
       "      <td>2.00</td>\n",
       "      <td>0.081</td>\n",
       "      <td>13.0</td>\n",
       "      <td>45.0</td>\n",
       "      <td>0.9972</td>\n",
       "      <td>3.48</td>\n",
       "      <td>0.64</td>\n",
       "      <td>9.2</td>\n",
       "      <td>5</td>\n",
       "      <td>137</td>\n",
       "    </tr>\n",
       "    <tr>\n",
       "      <th>130</th>\n",
       "      <td>7.2</td>\n",
       "      <td>0.730</td>\n",
       "      <td>0.02</td>\n",
       "      <td>2.50</td>\n",
       "      <td>0.076</td>\n",
       "      <td>16.0</td>\n",
       "      <td>42.0</td>\n",
       "      <td>0.9972</td>\n",
       "      <td>3.44</td>\n",
       "      <td>0.52</td>\n",
       "      <td>9.3</td>\n",
       "      <td>5</td>\n",
       "      <td>182</td>\n",
       "    </tr>\n",
       "  </tbody>\n",
       "</table>\n",
       "</div>"
      ],
      "text/plain": [
       "     fixed acidity  volatile acidity  citric acid  residual sugar  chlorides  \\\n",
       "45             7.2             0.725         0.05            4.65      0.086   \n",
       "46             7.2             0.725         0.05            4.65      0.086   \n",
       "73             7.2             0.490         0.24            2.20      0.070   \n",
       "94             7.2             0.415         0.36            2.00      0.081   \n",
       "130            7.2             0.730         0.02            2.50      0.076   \n",
       "\n",
       "     free sulfur dioxide  total sulfur dioxide  density    pH  sulphates  \\\n",
       "45                   4.0                  11.0   0.9962  3.41       0.39   \n",
       "46                   4.0                  11.0   0.9962  3.41       0.39   \n",
       "73                   5.0                  36.0   0.9960  3.33       0.48   \n",
       "94                  13.0                  45.0   0.9972  3.48       0.64   \n",
       "130                 16.0                  42.0   0.9972  3.44       0.52   \n",
       "\n",
       "     alcohol  quality   Id  \n",
       "45      10.9        5   64  \n",
       "46      10.9        5   65  \n",
       "73       9.4        5  104  \n",
       "94       9.2        5  137  \n",
       "130      9.3        5  182  "
      ]
     },
     "execution_count": 8,
     "metadata": {},
     "output_type": "execute_result"
    }
   ],
   "source": [
    "data[data[\"fixed acidity\"] == 7.2].head()"
   ]
  },
  {
   "cell_type": "code",
   "execution_count": 9,
   "id": "253cdf1a-4192-4a7c-b7d8-f58da9538730",
   "metadata": {},
   "outputs": [
    {
     "data": {
      "text/plain": [
       "<Axes: xlabel='fixed acidity', ylabel='quality'>"
      ]
     },
     "execution_count": 9,
     "metadata": {},
     "output_type": "execute_result"
    },
    {
     "data": {
      "image/png": "[encoded data removed]",
      "text/plain": [
       "<Figure size 1200x600 with 1 Axes>"
      ]
     },
     "metadata": {},
     "output_type": "display_data"
    }
   ],
   "source": [
    "import seaborn as sns\n",
    "import matplotlib.pyplot as plt\n",
    "\n",
    "plt.figure(figsize= (12,6))\n",
    "sns.scatterplot(x= \"fixed acidity\", y = \"quality\", data=fixed_acidity_to_wine_quality)"
   ]
  },
  {
   "cell_type": "markdown",
   "id": "eb07c49c-90a8-414a-8501-69e36387121f",
   "metadata": {},
   "source": [
    "# Analysis of Fixed Acidity vs. Wine Quality\r\n",
    "\r\n",
    "## Observations\r\n",
    "\r\n",
    "1. **Non-linear Relationship**:  \r\n",
    "   - The plot suggests a **non-linear** relationship between fixed acidity and wine quality.\r\n",
    "\r\n",
    "2. **Peak Quality at Mid-Range Acidity**:  \r\n",
    "   - The **quality increases** as fixed acidity rises from low values (around 5-6) to moderate levels (around 7-8).  \r\n",
    "   - The **highest quality values** are concentrated around a fixed acidity of **7-8**.\r\n",
    "\r\n",
    "3. **Declining Quality at Higher Acidity**:  \r\n",
    "   - As fixed acidity increases **beyond 8**, wine quality **tends to decrease**.  \r\n",
    "   - Wines with very high acidity (above 12) generally have **low quality**.\r\n",
    "\r\n",
    "## Conclusion\r\n",
    "\r\n",
    "- **Moderate levels of fixed acidity (7-8) are associated with the best quality wine**.  \r\n",
    "- **Too little or too much acidity negatively impacts quality**.  \r\n",
    "- There may be other factors (e.g., sugar, pH, alcohol) influencing quality, so fixed acidity alone is **not the only determinant**.\r\n",
    "nly determinant**.\r\n",
    "nly determinant**.\r\n",
    "nly determinant**.\r\n",
    "rminant.\r\n",
    "\r\n",
    "y terminant.\r\n",
    "\r\n"
   ]
  },
  {
   "cell_type": "markdown",
   "id": "7cc35f8c-22d6-4810-85e2-315c40b1e668",
   "metadata": {},
   "source": [
    "# How does \"volatile acidity\" affect quality of wine?"
   ]
  },
  {
   "cell_type": "code",
   "execution_count": 10,
   "id": "8ad2d367-c723-4111-a078-4af87c4f1308",
   "metadata": {},
   "outputs": [
    {
     "data": {
      "text/plain": [
       "135"
      ]
     },
     "execution_count": 10,
     "metadata": {},
     "output_type": "execute_result"
    }
   ],
   "source": [
    "data[\"volatile acidity\"].nunique()"
   ]
  },
  {
   "cell_type": "code",
   "execution_count": 11,
   "id": "60d080e4-46c7-4f06-8470-04066230ebd8",
   "metadata": {},
   "outputs": [
    {
     "name": "stdout",
     "output_type": "stream",
     "text": [
      "     volatile acidity  quality\n",
      "39              0.500       32\n",
      "54              0.600       32\n",
      "31              0.430       31\n",
      "25              0.390       29\n",
      "50              0.580       28\n",
      "..                ...      ...\n",
      "103             0.845        1\n",
      "105             0.855        1\n",
      "107             0.865        1\n",
      "112             0.890        1\n",
      "134             1.580        1\n",
      "\n",
      "[135 rows x 2 columns]\n"
     ]
    },
    {
     "data": {
      "text/plain": [
       "<Axes: xlabel='volatile acidity', ylabel='quality'>"
      ]
     },
     "execution_count": 11,
     "metadata": {},
     "output_type": "execute_result"
    },
    {
     "data": {
      "image/png": "[encoded data removed]",
      "text/plain": [
       "<Figure size 1200x600 with 1 Axes>"
      ]
     },
     "metadata": {},
     "output_type": "display_data"
    }
   ],
   "source": [
    "volatile_acidity_to_wine_quality = data.groupby(\"volatile acidity\")[\"quality\"].count().reset_index()\n",
    "print(volatile_acidity_to_wine_quality.sort_values(by= \"quality\", ascending = False))\n",
    "\n",
    "plt.figure(figsize= (12,6))\n",
    "sns.scatterplot(x= \"volatile acidity\", y = \"quality\", data=volatile_acidity_to_wine_quality)"
   ]
  },
  {
   "cell_type": "markdown",
   "id": "b2470cb0-9e26-4b3f-a9c4-3e9c9ba79ffe",
   "metadata": {},
   "source": [
    "# Analysis of Volatile Acidity vs. Wine Quality\r\n",
    "\r\n",
    "## Observations\r\n",
    "\r\n",
    "1. **Negative Correlation**:  \r\n",
    "   - The scatter plot suggests a **negative correlation** between volatile acidity and wine quality.  \r\n",
    "   - As **volatile acidity increases**, wine quality **tends to decrease**.\r\n",
    "\r\n",
    "2. **High-Quality Wines Have Lower Volatile Acidity**:  \r\n",
    "   - The **highest quality wines** are concentrated at **lower volatile acidity levels** (below 0.5).  \r\n",
    "   - Wines with **higher volatile acidity (above 0.8) tend to have lower quality**.\r\n",
    "\r\n",
    "3. **Extreme Values Correspond to Low Quality**:  \r\n",
    "   - Wines with very **high volatile acidity (>1.0)** mostly have low quality scores.\r\n",
    "   - This suggests that excessive volatile acidity negatively impacts wine quality.\r\n",
    "\r\n",
    "## Conclusion\r\n",
    "\r\n",
    "- **Lower volatile acidity is generally associated with better wine quality**.  \r\n",
    "- **Higher volatile acidity negatively affects quality**, likely due to its impact on taste and aroma.  \r\n",
    "- Other factors (e.g., alcohol content, sugar levels, pH) may also influence quality, but volatile acidity appears to be astrong determinant.\r\n"
   ]
  },
  {
   "cell_type": "markdown",
   "id": "0b616f8e-c02f-45d1-8637-7f819f9ee410",
   "metadata": {},
   "source": [
    "# How does \"citric acid\" affect quality of wine?"
   ]
  },
  {
   "cell_type": "code",
   "execution_count": 12,
   "id": "24bf644f-be1d-42b0-bb1e-b59f3e5c73ba",
   "metadata": {},
   "outputs": [
    {
     "data": {
      "text/plain": [
       "77"
      ]
     },
     "execution_count": 12,
     "metadata": {},
     "output_type": "execute_result"
    }
   ],
   "source": [
    "data[\"citric acid\"].nunique()"
   ]
  },
  {
   "cell_type": "code",
   "execution_count": 13,
   "id": "3a541079-e067-4a79-9aaa-ef4909ba12e2",
   "metadata": {},
   "outputs": [
    {
     "name": "stdout",
     "output_type": "stream",
     "text": [
      "    citric acid  quality\n",
      "0          0.00       99\n",
      "49         0.49       47\n",
      "24         0.24       42\n",
      "2          0.02       35\n",
      "1          0.01       26\n",
      "..          ...      ...\n",
      "61         0.61        1\n",
      "70         0.72        1\n",
      "73         0.75        1\n",
      "75         0.79        1\n",
      "76         1.00        1\n",
      "\n",
      "[77 rows x 2 columns]\n"
     ]
    },
    {
     "data": {
      "text/plain": [
       "<Axes: xlabel='citric acid', ylabel='quality'>"
      ]
     },
     "execution_count": 13,
     "metadata": {},
     "output_type": "execute_result"
    },
    {
     "data": {
      "image/png": "[encoded data removed]",
      "text/plain": [
       "<Figure size 1200x600 with 1 Axes>"
      ]
     },
     "metadata": {},
     "output_type": "display_data"
    }
   ],
   "source": [
    "citric_acid_to_wine_quality = data.groupby(\"citric acid\")[\"quality\"].count().reset_index()\n",
    "print(citric_acid_to_wine_quality.sort_values(by= \"quality\", ascending = False))\n",
    "\n",
    "plt.figure(figsize= (12,6))\n",
    "sns.scatterplot(x= \"citric acid\", y = \"quality\", data=citric_acid_to_wine_quality)"
   ]
  },
  {
   "cell_type": "markdown",
   "id": "8309700c-76f3-4c8a-85f5-73eeb5e23172",
   "metadata": {},
   "source": [
    "# Analysis of Citric Acid vs. Wine Quality\r\n",
    "\r\n",
    "## Observations\r\n",
    "\r\n",
    "1. **Negative Correlation**:  \r\n",
    "   - The scatter plot suggests a **negative correlation** between citric acid and wine quality.  \r\n",
    "   - As **citric acid increases**, wine quality **tends to decrease**.\r\n",
    "\r\n",
    "2. **High-Quality Wines Have Lower Citric Acid Levels**:  \r\n",
    "   - The **highest quality wines** are concentrated at **lower citric acid values (close to 0.0 - 0.2)**.  \r\n",
    "   - Wines with **higher citric acid content (>0.5) tend to have lower quality scores**.\r\n",
    "\r\n",
    "3. **Extreme Values Correspond to Low Quality**:  \r\n",
    "   - Wines with **very high citric acid (above 0.8)** mostly have **low quality scores**.  \r\n",
    "   - This suggests that an excessive amount of citric acid negatively impacts wine quality.\r\n",
    "\r\n",
    "## Conclusion\r\n",
    "\r\n",
    "- **Lower citric acid levels are generally associated with better wine quality**.  \r\n",
    "- **Higher citric acid content negatively affects quality**, possibly due to its impact on acidity and taste balance.  \r\n",
    "- Other factors (e.g., alcohol content, pH, and sugar levels) may also influence quality, but citric acid appears to play a significant role.\r\n"
   ]
  },
  {
   "cell_type": "markdown",
   "id": "18bd9ded-c17c-4d9f-a500-b4045adc95be",
   "metadata": {},
   "source": [
    "# How does \"residual sugar\" affect quality of wine?"
   ]
  },
  {
   "cell_type": "code",
   "execution_count": 14,
   "id": "65b98976-a02d-4d27-ae5b-fa0822bb53ef",
   "metadata": {},
   "outputs": [
    {
     "data": {
      "text/plain": [
       "80"
      ]
     },
     "execution_count": 14,
     "metadata": {},
     "output_type": "execute_result"
    }
   ],
   "source": [
    "data[\"residual sugar\"].nunique()"
   ]
  },
  {
   "cell_type": "code",
   "execution_count": 15,
   "id": "ffed5e36-6a06-487f-bb0c-3a5fd6ba7327",
   "metadata": {},
   "outputs": [
    {
     "name": "stdout",
     "output_type": "stream",
     "text": [
      "    residual sugar  quality\n",
      "11            2.00      107\n",
      "13            2.10      103\n",
      "9             1.80       92\n",
      "15            2.20       88\n",
      "10            1.90       80\n",
      "..             ...      ...\n",
      "23            2.85        1\n",
      "16            2.25        1\n",
      "14            2.15        1\n",
      "12            2.05        1\n",
      "79           15.50        1\n",
      "\n",
      "[80 rows x 2 columns]\n"
     ]
    },
    {
     "data": {
      "text/plain": [
       "<Axes: xlabel='residual sugar', ylabel='quality'>"
      ]
     },
     "execution_count": 15,
     "metadata": {},
     "output_type": "execute_result"
    },
    {
     "data": {
      "image/png": "[encoded data removed]",
      "text/plain": [
       "<Figure size 1200x600 with 1 Axes>"
      ]
     },
     "metadata": {},
     "output_type": "display_data"
    }
   ],
   "source": [
    "residual_sugar_to_wine_quality = data.groupby(\"residual sugar\")[\"quality\"].count().reset_index()\n",
    "print(residual_sugar_to_wine_quality.sort_values(by= \"quality\", ascending = False))\n",
    "\n",
    "plt.figure(figsize= (12,6))\n",
    "sns.scatterplot(x= \"residual sugar\", y = \"quality\", data=residual_sugar_to_wine_quality)"
   ]
  },
  {
   "cell_type": "markdown",
   "id": "3480e4db-ce6a-453d-a4eb-cb1fa0f03837",
   "metadata": {},
   "source": [
    "# Analysis of Residual Sugar vs. Wine Quality\r\n",
    "\r\n",
    "## Observations\r\n",
    "\r\n",
    "1. **Inverse Relationship**:  \r\n",
    "   - The scatter plot suggests that **higher residual sugar levels tend to correlate with lower wine quality**.  \r\n",
    "   - Most **high-quality wines** are concentrated at **low residual sugar values (below 4 g/L)**.\r\n",
    "\r\n",
    "2. **High Sugar, Low Quality**:  \r\n",
    "   - Wines with **residual sugar above 6 g/L mostly have lower quality scores**.  \r\n",
    "   - Extremely high residual sugar levels (above 10 g/L) appear to result in **very low wine quality**.\r\n",
    "\r\n",
    "3. **Low Residual Sugar is Common in High-Quality Wines**:  \r\n",
    "   - The best-quality wines (higher scores) tend to have **residual sugar levels below 3 g/L**.  \r\n",
    "   - This suggests that **drier wines are often rated higher in quality**.\r\n",
    "\r\n",
    "## Conclusion\r\n",
    "\r\n",
    "- **Lower residual sugar content is generally associated with better wine quality**.  \r\n",
    "- **High residual sugar negatively impacts wine quality**, possibly because excess sweetness can overshadow desirable wine characteristics like acidity and tannins.  \r\n",
    "- While residual sugar is a factor, **other attributes such as acidity, alcohol content, and pH also influence overall wine quality**.\r\n"
   ]
  },
  {
   "cell_type": "markdown",
   "id": "5b46ed09-fe7d-4c2b-bc69-72e5f9883199",
   "metadata": {},
   "source": [
    "# How does \"chlorides\" affect quality of wine?"
   ]
  },
  {
   "cell_type": "code",
   "execution_count": 16,
   "id": "873cfa98-bfb6-4b7c-88d9-8d88bca7b0c9",
   "metadata": {},
   "outputs": [
    {
     "data": {
      "text/plain": [
       "131"
      ]
     },
     "execution_count": 16,
     "metadata": {},
     "output_type": "execute_result"
    }
   ],
   "source": [
    "data[\"chlorides\"].nunique()"
   ]
  },
  {
   "cell_type": "code",
   "execution_count": 17,
   "id": "2e6a0bd0-7e9c-4015-8755-63644ca9fe3d",
   "metadata": {},
   "outputs": [
    {
     "name": "stdout",
     "output_type": "stream",
     "text": [
      "     chlorides  quality\n",
      "43       0.080       48\n",
      "40       0.077       41\n",
      "47       0.084       38\n",
      "37       0.074       38\n",
      "41       0.078       36\n",
      "..         ...      ...\n",
      "101      0.168        1\n",
      "102      0.169        1\n",
      "103      0.171        1\n",
      "105      0.190        1\n",
      "130      0.611        1\n",
      "\n",
      "[131 rows x 2 columns]\n"
     ]
    },
    {
     "data": {
      "text/plain": [
       "<Axes: xlabel='chlorides', ylabel='quality'>"
      ]
     },
     "execution_count": 17,
     "metadata": {},
     "output_type": "execute_result"
    },
    {
     "data": {
      "image/png": "[encoded data removed]",
      "text/plain": [
       "<Figure size 1200x600 with 1 Axes>"
      ]
     },
     "metadata": {},
     "output_type": "display_data"
    }
   ],
   "source": [
    "chlorides_to_wine_quality = data.groupby(\"chlorides\")[\"quality\"].count().reset_index()\n",
    "print(chlorides_to_wine_quality.sort_values(by= \"quality\", ascending = False))\n",
    "\n",
    "plt.figure(figsize= (12,6))\n",
    "sns.scatterplot(x= \"chlorides\", y = \"quality\", data=chlorides_to_wine_quality)"
   ]
  },
  {
   "cell_type": "markdown",
   "id": "43ecd1bb-a508-46f9-b581-3f01f936534e",
   "metadata": {},
   "source": [
    "# Analysis of Chlorides vs. Wine Quality\r\n",
    "\r\n",
    "## Observations\r\n",
    "\r\n",
    "1. **Negative Correlation Between Chlorides and Wine Quality**:  \r\n",
    "   - The scatter plot suggests that **higher chloride levels are generally associated with lower wine quality**.  \r\n",
    "   - Most high-quality wines have **low chloride concentrations (below 0.1 g/L)**.\r\n",
    "\r\n",
    "2. **High Chloride Content Reduces Quality**:  \r\n",
    "   - Wines with **chloride levels above 0.15 g/L tend to have lower quality scores**.  \r\n",
    "   - Extremely high chloride levels (above 0.3 g/L) result in **very low-quality ratings**.\r\n",
    "\r\n",
    "3. **Peak Quality at Low Chloride Levels**:  \r\n",
    "   - The best-quality wines appear concentrated at **chloride levels around 0.05 - 0.1 g/L**.  \r\n",
    "   - Beyond this range, quality declines significantly.\r\n",
    "\r\n",
    "## Conclusion\r\n",
    "\r\n",
    "- **Excessive chlorides (salts) in wine negatively impact its quality**.  \r\n",
    "- **Higher salt content might create an undesirable taste**, reducing consumer preference.  \r\n",
    "- The findings suggest that **maintaining low chloride levels is crucial for producing high-quality wine**.\r\n"
   ]
  },
  {
   "cell_type": "markdown",
   "id": "a796a2f3-2f44-4a6c-a189-fd581c17e6fb",
   "metadata": {},
   "source": [
    "# How does \"free sulfur dioxide\" affect quality of wine?"
   ]
  },
  {
   "cell_type": "code",
   "execution_count": 18,
   "id": "94d230ba-9f5f-4282-baa3-ed9893da337e",
   "metadata": {},
   "outputs": [
    {
     "data": {
      "text/plain": [
       "53"
      ]
     },
     "execution_count": 18,
     "metadata": {},
     "output_type": "execute_result"
    }
   ],
   "source": [
    "data[\"free sulfur dioxide\"].nunique()"
   ]
  },
  {
   "cell_type": "code",
   "execution_count": 19,
   "id": "e8f0a93f-aa18-46a8-81be-a65d88d7a737",
   "metadata": {},
   "outputs": [
    {
     "name": "stdout",
     "output_type": "stream",
     "text": [
      "    free sulfur dioxide  quality\n",
      "4                   6.0       99\n",
      "3                   5.0       80\n",
      "10                 12.0       58\n",
      "8                  10.0       52\n",
      "5                   7.0       51\n",
      "13                 15.0       51\n",
      "7                   9.0       48\n",
      "14                 16.0       47\n",
      "6                   8.0       45\n",
      "15                 17.0       40\n",
      "9                  11.0       39\n",
      "11                 13.0       39\n",
      "12                 14.0       38\n",
      "16                 18.0       37\n",
      "1                   3.0       33\n",
      "17                 19.0       32\n",
      "2                   4.0       31\n",
      "19                 21.0       30\n",
      "21                 23.0       23\n",
      "22                 24.0       21\n",
      "24                 26.0       21\n",
      "25                 27.0       21\n",
      "23                 25.0       20\n",
      "18                 20.0       18\n",
      "30                 32.0       18\n",
      "29                 31.0       16\n",
      "26                 28.0       15\n",
      "27                 29.0       14\n",
      "20                 22.0       12\n",
      "32                 34.0       12\n",
      "28                 30.0       10\n",
      "33                 35.0        9\n",
      "34                 36.0        9\n",
      "31                 33.0        8\n",
      "37                 38.0        8\n",
      "41                 41.0        5\n",
      "46                 48.0        4\n",
      "39                 40.0        3\n",
      "42                 42.0        3\n",
      "0                   1.0        3\n",
      "38                 39.0        2\n",
      "36                 37.5        2\n",
      "43                 43.0        2\n",
      "44                 45.0        2\n",
      "47                 51.0        2\n",
      "48                 52.0        2\n",
      "52                 68.0        2\n",
      "40                 40.5        1\n",
      "45                 46.0        1\n",
      "35                 37.0        1\n",
      "49                 53.0        1\n",
      "50                 55.0        1\n",
      "51                 66.0        1\n"
     ]
    },
    {
     "data": {
      "text/plain": [
       "<Axes: xlabel='free sulfur dioxide', ylabel='quality'>"
      ]
     },
     "execution_count": 19,
     "metadata": {},
     "output_type": "execute_result"
    },
    {
     "data": {
      "image/png": "[encoded data removed]",
      "text/plain": [
       "<Figure size 1200x600 with 1 Axes>"
      ]
     },
     "metadata": {},
     "output_type": "display_data"
    }
   ],
   "source": [
    "free_sulfur_dioxide_to_wine_quality = data.groupby(\"free sulfur dioxide\")[\"quality\"].count().reset_index()\n",
    "print(free_sulfur_dioxide_to_wine_quality.sort_values(by= \"quality\", ascending = False))\n",
    "\n",
    "plt.figure(figsize= (12,6))\n",
    "sns.scatterplot(x= \"free sulfur dioxide\", y = \"quality\", data=free_sulfur_dioxide_to_wine_quality)"
   ]
  },
  {
   "cell_type": "markdown",
   "id": "ded19a01-afc0-4089-a47d-1f2c8b7e2e2a",
   "metadata": {},
   "source": [
    "# Analysis of Free Sulfur Dioxide vs. Wine Quality\r\n",
    "\r\n",
    "## Observations\r\n",
    "\r\n",
    "1. **Negative Correlation Between Free Sulfur Dioxide and Wine Quality**:  \r\n",
    "   - The scatter plot suggests that **higher free sulfur dioxide levels are associated with lower wine quality**.  \r\n",
    "   - Most high-quality wines have **low free sulfur dioxide levels (below 20 mg/L)**.\r\n",
    "\r\n",
    "2. **Quality Declines as Free Sulfur Dioxide Increases**:  \r\n",
    "   - As the concentration of free sulfur dioxide rises beyond **20 mg/L**, the quality of wine appears to decline.  \r\n",
    "   - Wines with free sulfur dioxide levels exceeding **40 mg/L generally have lower quality ratings**.\r\n",
    "\r\n",
    "3. **Possible Impact of High Free Sulfur Dioxide Levels**:  \r\n",
    "   - Free sulfur dioxide is used as a preservative, but excessive amounts may negatively affect **taste and aroma**.  \r\n",
    "   - High sulfur dioxide levels can lead to **off-flavors and a sharp, chemical taste**, reducing wine desirability.\r\n",
    "\r\n",
    "## Conclusion\r\n",
    "\r\n",
    "- **Maintaining moderate free sulfur dioxide levels is essential for producing high-quality wine**.  \r\n",
    "- **Excessive free sulfur dioxide negatively impacts wine quality**, possibly due to its effect on flavor and chemical stability.  \r\n",
    "- The best wine quality appears to be achieved when free sulfur dioxide is kept **below 20 mg/L**.\r\n"
   ]
  },
  {
   "cell_type": "code",
   "execution_count": 20,
   "id": "8dd232ba-35ab-4324-97be-0cb6dcaf015b",
   "metadata": {},
   "outputs": [
    {
     "data": {
      "text/plain": [
       "Index(['fixed acidity', 'volatile acidity', 'citric acid', 'residual sugar',\n",
       "       'chlorides', 'free sulfur dioxide', 'total sulfur dioxide', 'density',\n",
       "       'pH', 'sulphates', 'alcohol', 'quality', 'Id'],\n",
       "      dtype='object')"
      ]
     },
     "execution_count": 20,
     "metadata": {},
     "output_type": "execute_result"
    }
   ],
   "source": [
    "data.columns"
   ]
  },
  {
   "cell_type": "markdown",
   "id": "60f2b9da-da9a-4f0e-9ebd-bab852674656",
   "metadata": {},
   "source": [
    "# How does \"total sulfur dioxide\" affect quality of wine?"
   ]
  },
  {
   "cell_type": "code",
   "execution_count": 21,
   "id": "fa11a6a4-35cb-4ca7-8e56-ca0bc20d5216",
   "metadata": {},
   "outputs": [
    {
     "data": {
      "text/plain": [
       "138"
      ]
     },
     "execution_count": 21,
     "metadata": {},
     "output_type": "execute_result"
    }
   ],
   "source": [
    "data[\"total sulfur dioxide\"].nunique()"
   ]
  },
  {
   "cell_type": "code",
   "execution_count": 22,
   "id": "ad0455cb-a773-4544-b569-bd92c12ccf98",
   "metadata": {},
   "outputs": [
    {
     "name": "stdout",
     "output_type": "stream",
     "text": [
      "     total sulfur dioxide  quality\n",
      "22                   28.0       36\n",
      "9                    15.0       28\n",
      "8                    14.0       27\n",
      "14                   20.0       27\n",
      "12                   18.0       26\n",
      "..                    ...      ...\n",
      "100                 108.0        1\n",
      "96                  103.0        1\n",
      "87                   93.0        1\n",
      "72                   77.5        1\n",
      "137                 289.0        1\n",
      "\n",
      "[138 rows x 2 columns]\n"
     ]
    },
    {
     "data": {
      "text/plain": [
       "<Axes: xlabel='total sulfur dioxide', ylabel='quality'>"
      ]
     },
     "execution_count": 22,
     "metadata": {},
     "output_type": "execute_result"
    },
    {
     "data": {
      "image/png": "[encoded data removed]",
      "text/plain": [
       "<Figure size 1200x600 with 1 Axes>"
      ]
     },
     "metadata": {},
     "output_type": "display_data"
    }
   ],
   "source": [
    "total_sulfur_dioxide_to_wine_quality = data.groupby(\"total sulfur dioxide\")[\"quality\"].count().reset_index()\n",
    "print(total_sulfur_dioxide_to_wine_quality.sort_values(by= \"quality\", ascending = False))\n",
    "\n",
    "plt.figure(figsize= (12,6))\n",
    "sns.scatterplot(x= \"total sulfur dioxide\", y = \"quality\", data=total_sulfur_dioxide_to_wine_quality)"
   ]
  },
  {
   "cell_type": "markdown",
   "id": "fa1ba16b-804f-45eb-aca3-df86f037149b",
   "metadata": {},
   "source": [
    "# Analysis of Total Sulfur Dioxide vs. Wine Quality\r\n",
    "\r\n",
    "## Observations\r\n",
    "\r\n",
    "1. **Negative Correlation Between Total Sulfur Dioxide and Wine Quality**:  \r\n",
    "   - The scatter plot suggests that **higher total sulfur dioxide levels are associated with lower wine quality**.  \r\n",
    "   - Most high-quality wines have **low total sulfur dioxide levels (below 50 mg/L)**.\r\n",
    "\r\n",
    "2. **Quality Declines as Total Sulfur Dioxide Increases**:  \r\n",
    "   - As total sulfur dioxide rises beyond **50 mg/L**, wine quality tends to decrease significantly.  \r\n",
    "   - Wines with total sulfur dioxide levels exceeding **100 mg/L generally have lower quality ratings**.\r\n",
    "\r\n",
    "3. **Possible Impact of High Total Sulfur Dioxide Levels**:  \r\n",
    "   - While sulfur dioxide is used as a preservative to prevent oxidation and bacterial growth, excessive amounts may negatively impact **flavor, aroma, and overall wine balance**.  \r\n",
    "   - High sulfur dioxide levels can contribute to **unpleasant chemical tastes and a harsh mouthfeel**, reducing wine desirability.\r\n",
    "\r\n",
    "## Conclusion\r\n",
    "\r\n",
    "- **Maintaining moderate total sulfur dioxide levels is crucial for high-quality wine production**.  \r\n",
    "- **Excessive total sulfur dioxide negatively impacts wine quality**, likely due to its effect on sensory attributes.  \r\n",
    "- The best wine quality appears to be achieved when total sulfur dioxide is kept **below 50 mg/L**.\r\n"
   ]
  },
  {
   "cell_type": "markdown",
   "id": "b3d719d9-f64b-48db-b401-a02f5d69092c",
   "metadata": {},
   "source": [
    "# How does \"density\" affect quality of wine?"
   ]
  },
  {
   "cell_type": "code",
   "execution_count": 23,
   "id": "681dc008-42d7-44c0-9e13-e269ce17dc4f",
   "metadata": {},
   "outputs": [
    {
     "data": {
      "text/plain": [
       "388"
      ]
     },
     "execution_count": 23,
     "metadata": {},
     "output_type": "execute_result"
    }
   ],
   "source": [
    "data[\"density\"].nunique()"
   ]
  },
  {
   "cell_type": "code",
   "execution_count": 24,
   "id": "33519a0c-1519-48fe-b90a-7896d7afa5b8",
   "metadata": {},
   "outputs": [
    {
     "name": "stdout",
     "output_type": "stream",
     "text": [
      "     density  quality\n",
      "296  0.99760       27\n",
      "274  0.99720       25\n",
      "355  0.99940       22\n",
      "246  0.99680       22\n",
      "218  0.99640       21\n",
      "..       ...      ...\n",
      "165  0.99573        1\n",
      "166  0.99574        1\n",
      "172  0.99581        1\n",
      "176  0.99587        1\n",
      "387  1.00369        1\n",
      "\n",
      "[388 rows x 2 columns]\n"
     ]
    },
    {
     "data": {
      "text/plain": [
       "<Axes: xlabel='density', ylabel='quality'>"
      ]
     },
     "execution_count": 24,
     "metadata": {},
     "output_type": "execute_result"
    },
    {
     "data": {
      "image/png": "[encoded data removed]",
      "text/plain": [
       "<Figure size 1200x600 with 1 Axes>"
      ]
     },
     "metadata": {},
     "output_type": "display_data"
    }
   ],
   "source": [
    "density_to_wine_quality = data.groupby(\"density\")[\"quality\"].count().reset_index()\n",
    "print(density_to_wine_quality.sort_values(by= \"quality\", ascending = False))\n",
    "\n",
    "plt.figure(figsize= (12,6))\n",
    "sns.scatterplot(x= \"density\", y = \"quality\", data=density_to_wine_quality)"
   ]
  },
  {
   "cell_type": "markdown",
   "id": "225fea63-7f13-4a37-bc7b-b610f31d8c29",
   "metadata": {},
   "source": [
    "# Analysis of Density vs. Wine Quality\r\n",
    "\r\n",
    "## Observations\r\n",
    "\r\n",
    "1. **Relationship Between Density and Wine Quality**:  \r\n",
    "   - The scatter plot suggests a **non-linear relationship** between density and wine quality.  \r\n",
    "   - Most wines with **moderate density (around 0.996 - 0.998 g/cm³)** tend to have higher quality ratings.  \r\n",
    "\r\n",
    "2. **Extremes in Density Lead to Lower Quality**:  \r\n",
    "   - Wines with **very low density (below 0.994 g/cm³) or very high density (above 1.000 g/cm³)** tend to have lower quality scores.  \r\n",
    "   - This may be due to **imbalanced sugar, alcohol, or extract content**, which affects the overall taste and mouthfeel.\r\n",
    "\r\n",
    "3. **Possible Influence of Density on Wine Composition**:  \r\n",
    "   - Density is influenced by the concentration of dissolved substances like **sugars, alcohol, and acids**.  \r\n",
    "   - High density may indicate **excess residual sugar or insufficient fermentation**, leading to an unbalanced taste.  \r\n",
    "   - Low density could mean **high alcohol content but insufficient structure**, reducing wine complexity.\r\n",
    "\r\n",
    "## Conclusion\r\n",
    "\r\n",
    "- **Moderate density levels (~0.996 - 0.998 g/cm³) are associated with higher-quality wines**.  \r\n",
    "- **Very high or very low densities tend to produce lower-quality wines**, possibly due to **poor balance in sugar, alcohol, and acidity**.  \r\n",
    "- Maintaining an optimal density range during wine production may enhance wine quality.\r\n"
   ]
  },
  {
   "cell_type": "markdown",
   "id": "ad35363e-79e0-4be3-a990-55e1afcea29b",
   "metadata": {},
   "source": [
    "# How does \"pH\" affect quality of wine?"
   ]
  },
  {
   "cell_type": "code",
   "execution_count": 25,
   "id": "ff331a9e-e606-410e-b428-ccb7ffcd8295",
   "metadata": {},
   "outputs": [
    {
     "data": {
      "text/plain": [
       "87"
      ]
     },
     "execution_count": 25,
     "metadata": {},
     "output_type": "execute_result"
    }
   ],
   "source": [
    "data[\"pH\"].nunique()"
   ]
  },
  {
   "cell_type": "code",
   "execution_count": 26,
   "id": "1d14bb20-76e9-465e-96e3-3ffaa79f797a",
   "metadata": {},
   "outputs": [
    {
     "name": "stdout",
     "output_type": "stream",
     "text": [
      "      pH  quality\n",
      "41  3.30       41\n",
      "47  3.36       40\n",
      "49  3.38       38\n",
      "50  3.39       37\n",
      "37  3.26       33\n",
      "..   ...      ...\n",
      "80  3.71        1\n",
      "82  3.74        1\n",
      "83  3.75        1\n",
      "4   2.90        1\n",
      "0   2.74        1\n",
      "\n",
      "[87 rows x 2 columns]\n"
     ]
    },
    {
     "data": {
      "text/plain": [
       "<Axes: xlabel='pH', ylabel='quality'>"
      ]
     },
     "execution_count": 26,
     "metadata": {},
     "output_type": "execute_result"
    },
    {
     "data": {
      "image/png": "[encoded data removed]",
      "text/plain": [
       "<Figure size 1200x600 with 1 Axes>"
      ]
     },
     "metadata": {},
     "output_type": "display_data"
    }
   ],
   "source": [
    "pH_to_wine_quality = data.groupby(\"pH\")[\"quality\"].count().reset_index()\n",
    "print(pH_to_wine_quality.sort_values(by= \"quality\", ascending = False))\n",
    "\n",
    "plt.figure(figsize= (12,6))\n",
    "sns.scatterplot(x= \"pH\", y = \"quality\", data=pH_to_wine_quality)"
   ]
  },
  {
   "cell_type": "markdown",
   "id": "e852c35d-6f13-4c59-a225-64734ea339fd",
   "metadata": {},
   "source": [
    "# Analysis of pH vs. Wine Quality\r\n",
    "\r\n",
    "## Observations\r\n",
    "\r\n",
    "1. **Optimal pH Range for High-Quality Wine**:\r\n",
    "   - The scatter plot shows a **bell-shaped distribution**, indicating that wine quality is highest at **moderate pH levels (~3.2 - 3.4)**.\r\n",
    "   - Wines with **extreme pH values (either too low or too high)** tend to have lower quality scores.\r\n",
    "\r\n",
    "2. **Low pH (Below 3.0) and Quality**:\r\n",
    "   - Wines with a **very low pH (< 3.0)** are more acidic.\r\n",
    "   - While acidity can enhance freshness, excessive acidity may result in **harsh taste and poor balance**, leading to lower quality scores.\r\n",
    "\r\n",
    "3. **High pH (Above 3.6) and Quality**:\r\n",
    "   - Wines with **high pH (> 3.6)** are less acidic.\r\n",
    "   - Lower acidity can make the wine **flat and dull**, reducing its complexity and longevity.\r\n",
    "   - High pH also increases the risk of microbial instability, negatively affecting wine quality.\r\n",
    "\r\n",
    "4. **pH and Wine Stability**:\r\n",
    "   - The right balance of pH ensures **good flavor complexity, color stability, and microbial resistance**.\r\n",
    "   - Maintaining a pH range of **3.2 - 3.4** can contribute to a well-structured and high-quality wine.\r\n",
    "\r\n",
    "## Conclusion\r\n",
    "\r\n",
    "- **Moderate pH levels (~3.2 - 3.4) are associated with the highest wine quality**.\r\n",
    "- **Too low or too high pH negatively affects wine quality**, likely due to **imbalance in acidity and stability**.\r\n",
    "- Winemakers should aim for an optimal pH balance to enhance **taste, longevity, and overall wine experience**.\r\n"
   ]
  },
  {
   "cell_type": "markdown",
   "id": "aa128023-b830-466e-b3ae-08eae83b61d2",
   "metadata": {},
   "source": [
    "# How does \"sulphates\" affect quality of wine?"
   ]
  },
  {
   "cell_type": "code",
   "execution_count": 27,
   "id": "cdda6776",
   "metadata": {},
   "outputs": [
    {
     "data": {
      "text/plain": [
       "89"
      ]
     },
     "execution_count": 27,
     "metadata": {},
     "output_type": "execute_result"
    }
   ],
   "source": [
    "data[\"sulphates\"].nunique()"
   ]
  },
  {
   "cell_type": "code",
   "execution_count": 28,
   "id": "caf83f5a",
   "metadata": {},
   "outputs": [
    {
     "name": "stdout",
     "output_type": "stream",
     "text": [
      "    sulphates  quality\n",
      "21       0.60       53\n",
      "23       0.62       50\n",
      "17       0.56       47\n",
      "15       0.54       46\n",
      "18       0.57       42\n",
      "..        ...      ...\n",
      "66       1.07        1\n",
      "63       1.04        1\n",
      "62       1.03        1\n",
      "60       1.01        1\n",
      "88       2.00        1\n",
      "\n",
      "[89 rows x 2 columns]\n"
     ]
    },
    {
     "data": {
      "text/plain": [
       "<Axes: xlabel='sulphates', ylabel='quality'>"
      ]
     },
     "execution_count": 28,
     "metadata": {},
     "output_type": "execute_result"
    },
    {
     "data": {
      "image/png": "[encoded data removed]",
      "text/plain": [
       "<Figure size 1200x600 with 1 Axes>"
      ]
     },
     "metadata": {},
     "output_type": "display_data"
    }
   ],
   "source": [
    "sulphates_to_wine_quality = data.groupby(\"sulphates\")[\"quality\"].count().reset_index()\n",
    "print(sulphates_to_wine_quality.sort_values(by= \"quality\", ascending = False))\n",
    "\n",
    "plt.figure(figsize= (12,6))\n",
    "sns.scatterplot(x= \"sulphates\", y = \"quality\", data=sulphates_to_wine_quality)"
   ]
  },
  {
   "cell_type": "markdown",
   "id": "90b56f11-226b-4a77-9ac8-b50dbeeb4d15",
   "metadata": {},
   "source": [
    "# Analysis of Sulphates vs. Wine Quality\r\n",
    "\r\n",
    "## Observations\r\n",
    "\r\n",
    "1. **Optimal Sulphates Range for High-Quality Wine**:\r\n",
    "   - The scatter plot exhibits a **peak around 0.5 - 0.75 sulphates**, suggesting that **moderate sulphate levels are associated with higher wine quality**.\r\n",
    "   - **Low (< 0.5) and high (> 0.75) sulphate levels** tend to correspond with lower-quality wines.\r\n",
    "\r\n",
    "2. **Impact of Low Sulphate Levels**:\r\n",
    "   - Wines with **very low sulphates (< 0.5)** often have **poor structure and lower stability**.\r\n",
    "   - Sulphates contribute to **antioxidant properties and microbial stability**, which help improve wine preservation and taste.\r\n",
    "\r\n",
    "3. **Impact of High Sulphate Levels**:\r\n",
    "   - Wines with **high sulphates (> 0.75 - 1.0)** generally exhibit **a decline in quality**.\r\n",
    "   - Excess sulphates can lead to **harsh, bitter, or astringent flavors**, which negatively impact the overall taste and balance.\r\n",
    "\r\n",
    "4. **Role of Sulphates in Wine**:\r\n",
    "   - Sulphates act as **preservatives and enhance the perception of dryness**, which is important for wine balance.\r\n",
    "   - However, excessive sulphates can **negatively impact sensory experience** and make the wine **less enjoyable**.\r\n",
    "\r\n",
    "## Conclusion\r\n",
    "\r\n",
    "- **Moderate sulphate levels (0.5 - 0.75) are linked to the highest wine quality**.\r\n",
    "- **Too low or too high sulphate levels can decrease quality**, either by making the wine **unstable (low levels) or too harsh (high levels)**.\r\n",
    "- Winemakers should **carefully control sulphate levels** to achieve a balance between **stability, preservation, and taste**.\r\n"
   ]
  },
  {
   "cell_type": "markdown",
   "id": "7562bb6d-82b8-4e2a-8c95-7db6d1dd0b92",
   "metadata": {},
   "source": [
    "# How does \"alcohol\" affect quality of wine?"
   ]
  },
  {
   "cell_type": "code",
   "execution_count": 29,
   "id": "5ce1adcf",
   "metadata": {},
   "outputs": [
    {
     "data": {
      "text/plain": [
       "61"
      ]
     },
     "execution_count": 29,
     "metadata": {},
     "output_type": "execute_result"
    }
   ],
   "source": [
    "data[\"alcohol\"].nunique()"
   ]
  },
  {
   "cell_type": "code",
   "execution_count": 30,
   "id": "9a1f3419",
   "metadata": {},
   "outputs": [
    {
     "name": "stdout",
     "output_type": "stream",
     "text": [
      "      alcohol  quality\n",
      "11   9.500000       92\n",
      "10   9.400000       72\n",
      "15   9.800000       57\n",
      "6    9.200000       50\n",
      "18  10.000000       49\n",
      "..        ...      ...\n",
      "8    9.250000        1\n",
      "7    9.233333        1\n",
      "57  13.566667        1\n",
      "2    8.700000        1\n",
      "60  14.900000        1\n",
      "\n",
      "[61 rows x 2 columns]\n"
     ]
    },
    {
     "data": {
      "text/plain": [
       "<Axes: xlabel='alcohol', ylabel='quality'>"
      ]
     },
     "execution_count": 30,
     "metadata": {},
     "output_type": "execute_result"
    },
    {
     "data": {
      "image/png": "[encoded data removed]",
      "text/plain": [
       "<Figure size 1200x600 with 1 Axes>"
      ]
     },
     "metadata": {},
     "output_type": "display_data"
    }
   ],
   "source": [
    "alcohol_to_wine_quality = data.groupby(\"alcohol\")[\"quality\"].count().reset_index()\n",
    "print(alcohol_to_wine_quality.sort_values(by= \"quality\", ascending = False))\n",
    "\n",
    "plt.figure(figsize= (12,6))\n",
    "sns.scatterplot(x= \"alcohol\", y = \"quality\", data=alcohol_to_wine_quality)"
   ]
  },
  {
   "cell_type": "markdown",
   "id": "a8fa875d-8fef-421d-944d-746392d0c5f4",
   "metadata": {},
   "source": [
    "# Analysis of Alcohol Content vs. Wine Quality\r\n",
    "\r\n",
    "## Observations\r\n",
    "\r\n",
    "1. **Inverse Relationship Between Alcohol and Wine Quality**:\r\n",
    "   - The scatter plot suggests an **inverse correlation between alcohol content and wine quality**.\r\n",
    "   - Higher-quality wines tend to have **lower alcohol levels (around 9-10%)**.\r\n",
    "   - As alcohol content increases beyond **10-12%**, wine quality generally declines.\r\n",
    "\r\n",
    "2. **Impact of Low Alcohol Content**:\r\n",
    "   - Wines with **low alcohol levels (~9-10%)** show a **higher frequency of good quality ratings**.\r\n",
    "   - A balanced alcohol level is often preferred, as **excess alcohol can overpower other flavors**.\r\n",
    "\r\n",
    "3. **Impact of High Alcohol Content**:\r\n",
    "   - Wines with **higher alcohol levels (>12%)** tend to have **lower quality ratings**.\r\n",
    "   - Excess alcohol can result in a **harsh taste, reduced complexity, and imbalanced flavors**.\r\n",
    "\r\n",
    "4. **Possible Reasons for This Trend**:\r\n",
    "   - Alcohol contributes to **mouthfeel and body**, but excessive amounts can **detract from acidity, aroma, and overall balance**.\r\n",
    "   - Higher alcohol wines may suffer from **over-fermentation or excessive sweetness**, which can negatively impact consumer preference.\r\n",
    "\r\n",
    "## Conclusion\r\n",
    "\r\n",
    "- **Moderate alcohol levels (~9-10%) are linked to higher wine quality**.\r\n",
    "- **Increasing alcohol content (>12%) generally reduces quality**, likely due to **imbalanced flavors and harsher sensory attributes**.\r\n",
    "- Winemakers should focus on achieving a balance where **alcohol enhances flavor complexity without overwhelming the wine's profile**.\r\n"
   ]
  },
  {
   "cell_type": "markdown",
   "id": "d1889da2-89c0-4dc1-b829-537576bb07cd",
   "metadata": {},
   "source": [
    "# TRAINING, TESTING AND CREATION OF MODEL"
   ]
  },
  {
   "cell_type": "code",
   "execution_count": 31,
   "id": "dcb2578a-b5fe-43e5-8054-c167a8bc927c",
   "metadata": {},
   "outputs": [
    {
     "data": {
      "text/html": [
       "<div>\n",
       "<style scoped>\n",
       "    .dataframe tbody tr th:only-of-type {\n",
       "        vertical-align: middle;\n",
       "    }\n",
       "\n",
       "    .dataframe tbody tr th {\n",
       "        vertical-align: top;\n",
       "    }\n",
       "\n",
       "    .dataframe thead th {\n",
       "        text-align: right;\n",
       "    }\n",
       "</style>\n",
       "<table border=\"1\" class=\"dataframe\">\n",
       "  <thead>\n",
       "    <tr style=\"text-align: right;\">\n",
       "      <th></th>\n",
       "      <th>fixed acidity</th>\n",
       "      <th>volatile acidity</th>\n",
       "      <th>citric acid</th>\n",
       "      <th>residual sugar</th>\n",
       "      <th>chlorides</th>\n",
       "      <th>free sulfur dioxide</th>\n",
       "      <th>total sulfur dioxide</th>\n",
       "      <th>density</th>\n",
       "      <th>pH</th>\n",
       "      <th>sulphates</th>\n",
       "      <th>alcohol</th>\n",
       "      <th>quality</th>\n",
       "      <th>Id</th>\n",
       "    </tr>\n",
       "  </thead>\n",
       "  <tbody>\n",
       "    <tr>\n",
       "      <th>0</th>\n",
       "      <td>7.4</td>\n",
       "      <td>0.70</td>\n",
       "      <td>0.0</td>\n",
       "      <td>1.9</td>\n",
       "      <td>0.076</td>\n",
       "      <td>11.0</td>\n",
       "      <td>34.0</td>\n",
       "      <td>0.9978</td>\n",
       "      <td>3.51</td>\n",
       "      <td>0.56</td>\n",
       "      <td>9.4</td>\n",
       "      <td>5</td>\n",
       "      <td>0</td>\n",
       "    </tr>\n",
       "    <tr>\n",
       "      <th>1</th>\n",
       "      <td>7.8</td>\n",
       "      <td>0.88</td>\n",
       "      <td>0.0</td>\n",
       "      <td>2.6</td>\n",
       "      <td>0.098</td>\n",
       "      <td>25.0</td>\n",
       "      <td>67.0</td>\n",
       "      <td>0.9968</td>\n",
       "      <td>3.20</td>\n",
       "      <td>0.68</td>\n",
       "      <td>9.8</td>\n",
       "      <td>5</td>\n",
       "      <td>1</td>\n",
       "    </tr>\n",
       "  </tbody>\n",
       "</table>\n",
       "</div>"
      ],
      "text/plain": [
       "   fixed acidity  volatile acidity  citric acid  residual sugar  chlorides  \\\n",
       "0            7.4              0.70          0.0             1.9      0.076   \n",
       "1            7.8              0.88          0.0             2.6      0.098   \n",
       "\n",
       "   free sulfur dioxide  total sulfur dioxide  density    pH  sulphates  \\\n",
       "0                 11.0                  34.0   0.9978  3.51       0.56   \n",
       "1                 25.0                  67.0   0.9968  3.20       0.68   \n",
       "\n",
       "   alcohol  quality  Id  \n",
       "0      9.4        5   0  \n",
       "1      9.8        5   1  "
      ]
     },
     "execution_count": 31,
     "metadata": {},
     "output_type": "execute_result"
    }
   ],
   "source": [
    "data.head(2)"
   ]
  },
  {
   "cell_type": "code",
   "execution_count": 32,
   "id": "b0a6f467-73dc-49c9-b8ba-c2024d68f6d8",
   "metadata": {},
   "outputs": [],
   "source": [
    "from sklearn.ensemble import RandomForestClassifier\n",
    "from sklearn.model_selection import train_test_split\n",
    "from sklearn.metrics import accuracy_score"
   ]
  },
  {
   "cell_type": "code",
   "execution_count": 33,
   "id": "d23a070d-7726-4362-a51d-b4c9ba9a5ae0",
   "metadata": {},
   "outputs": [
    {
     "data": {
      "text/html": [
       "<div>\n",
       "<style scoped>\n",
       "    .dataframe tbody tr th:only-of-type {\n",
       "        vertical-align: middle;\n",
       "    }\n",
       "\n",
       "    .dataframe tbody tr th {\n",
       "        vertical-align: top;\n",
       "    }\n",
       "\n",
       "    .dataframe thead th {\n",
       "        text-align: right;\n",
       "    }\n",
       "</style>\n",
       "<table border=\"1\" class=\"dataframe\">\n",
       "  <thead>\n",
       "    <tr style=\"text-align: right;\">\n",
       "      <th></th>\n",
       "      <th>fixed acidity</th>\n",
       "      <th>volatile acidity</th>\n",
       "      <th>citric acid</th>\n",
       "      <th>residual sugar</th>\n",
       "      <th>chlorides</th>\n",
       "      <th>free sulfur dioxide</th>\n",
       "      <th>total sulfur dioxide</th>\n",
       "      <th>density</th>\n",
       "      <th>pH</th>\n",
       "      <th>sulphates</th>\n",
       "      <th>alcohol</th>\n",
       "    </tr>\n",
       "  </thead>\n",
       "  <tbody>\n",
       "    <tr>\n",
       "      <th>0</th>\n",
       "      <td>7.4</td>\n",
       "      <td>0.70</td>\n",
       "      <td>0.00</td>\n",
       "      <td>1.9</td>\n",
       "      <td>0.076</td>\n",
       "      <td>11.0</td>\n",
       "      <td>34.0</td>\n",
       "      <td>0.9978</td>\n",
       "      <td>3.51</td>\n",
       "      <td>0.56</td>\n",
       "      <td>9.4</td>\n",
       "    </tr>\n",
       "    <tr>\n",
       "      <th>1</th>\n",
       "      <td>7.8</td>\n",
       "      <td>0.88</td>\n",
       "      <td>0.00</td>\n",
       "      <td>2.6</td>\n",
       "      <td>0.098</td>\n",
       "      <td>25.0</td>\n",
       "      <td>67.0</td>\n",
       "      <td>0.9968</td>\n",
       "      <td>3.20</td>\n",
       "      <td>0.68</td>\n",
       "      <td>9.8</td>\n",
       "    </tr>\n",
       "    <tr>\n",
       "      <th>2</th>\n",
       "      <td>7.8</td>\n",
       "      <td>0.76</td>\n",
       "      <td>0.04</td>\n",
       "      <td>2.3</td>\n",
       "      <td>0.092</td>\n",
       "      <td>15.0</td>\n",
       "      <td>54.0</td>\n",
       "      <td>0.9970</td>\n",
       "      <td>3.26</td>\n",
       "      <td>0.65</td>\n",
       "      <td>9.8</td>\n",
       "    </tr>\n",
       "    <tr>\n",
       "      <th>3</th>\n",
       "      <td>11.2</td>\n",
       "      <td>0.28</td>\n",
       "      <td>0.56</td>\n",
       "      <td>1.9</td>\n",
       "      <td>0.075</td>\n",
       "      <td>17.0</td>\n",
       "      <td>60.0</td>\n",
       "      <td>0.9980</td>\n",
       "      <td>3.16</td>\n",
       "      <td>0.58</td>\n",
       "      <td>9.8</td>\n",
       "    </tr>\n",
       "    <tr>\n",
       "      <th>4</th>\n",
       "      <td>7.4</td>\n",
       "      <td>0.70</td>\n",
       "      <td>0.00</td>\n",
       "      <td>1.9</td>\n",
       "      <td>0.076</td>\n",
       "      <td>11.0</td>\n",
       "      <td>34.0</td>\n",
       "      <td>0.9978</td>\n",
       "      <td>3.51</td>\n",
       "      <td>0.56</td>\n",
       "      <td>9.4</td>\n",
       "    </tr>\n",
       "  </tbody>\n",
       "</table>\n",
       "</div>"
      ],
      "text/plain": [
       "   fixed acidity  volatile acidity  citric acid  residual sugar  chlorides  \\\n",
       "0            7.4              0.70         0.00             1.9      0.076   \n",
       "1            7.8              0.88         0.00             2.6      0.098   \n",
       "2            7.8              0.76         0.04             2.3      0.092   \n",
       "3           11.2              0.28         0.56             1.9      0.075   \n",
       "4            7.4              0.70         0.00             1.9      0.076   \n",
       "\n",
       "   free sulfur dioxide  total sulfur dioxide  density    pH  sulphates  \\\n",
       "0                 11.0                  34.0   0.9978  3.51       0.56   \n",
       "1                 25.0                  67.0   0.9968  3.20       0.68   \n",
       "2                 15.0                  54.0   0.9970  3.26       0.65   \n",
       "3                 17.0                  60.0   0.9980  3.16       0.58   \n",
       "4                 11.0                  34.0   0.9978  3.51       0.56   \n",
       "\n",
       "   alcohol  \n",
       "0      9.4  \n",
       "1      9.8  \n",
       "2      9.8  \n",
       "3      9.8  \n",
       "4      9.4  "
      ]
     },
     "execution_count": 33,
     "metadata": {},
     "output_type": "execute_result"
    }
   ],
   "source": [
    "X = data.drop(columns = [\"quality\", \"Id\"])\n",
    "X.head()"
   ]
  },
  {
   "cell_type": "code",
   "execution_count": 34,
   "id": "19b98369-471b-4eab-92d8-aa308128f5cf",
   "metadata": {},
   "outputs": [
    {
     "data": {
      "text/plain": [
       "0    5\n",
       "1    5\n",
       "2    5\n",
       "3    6\n",
       "4    5\n",
       "Name: quality, dtype: int64"
      ]
     },
     "execution_count": 34,
     "metadata": {},
     "output_type": "execute_result"
    }
   ],
   "source": [
    "y = data[\"quality\"]\n",
    "y[:5]"
   ]
  },
  {
   "cell_type": "code",
   "execution_count": 35,
   "id": "e928bda1-3b9e-4ec6-aba7-322c546dfb14",
   "metadata": {},
   "outputs": [],
   "source": [
    "# Data preparation\n",
    "X_train, X_test, y_train, y_test = train_test_split(X, y, test_size=0.2)"
   ]
  },
  {
   "cell_type": "code",
   "execution_count": 36,
   "id": "4ed98d51-d795-4cef-a60d-6a8503e39d46",
   "metadata": {},
   "outputs": [
    {
     "data": {
      "text/html": [
       "<style>#sk-container-id-1 {\n",
       "  /* Definition of color scheme common for light and dark mode */\n",
       "  --sklearn-color-text: black;\n",
       "  --sklearn-color-line: gray;\n",
       "  /* Definition of color scheme for unfitted estimators */\n",
       "  --sklearn-color-unfitted-level-0: #fff5e6;\n",
       "  --sklearn-color-unfitted-level-1: #f6e4d2;\n",
       "  --sklearn-color-unfitted-level-2: #ffe0b3;\n",
       "  --sklearn-color-unfitted-level-3: chocolate;\n",
       "  /* Definition of color scheme for fitted estimators */\n",
       "  --sklearn-color-fitted-level-0: #f0f8ff;\n",
       "  --sklearn-color-fitted-level-1: #d4ebff;\n",
       "  --sklearn-color-fitted-level-2: #b3dbfd;\n",
       "  --sklearn-color-fitted-level-3: cornflowerblue;\n",
       "\n",
       "  /* Specific color for light theme */\n",
       "  --sklearn-color-text-on-default-background: var(--sg-text-color, var(--theme-code-foreground, var(--jp-content-font-color1, black)));\n",
       "  --sklearn-color-background: var(--sg-background-color, var(--theme-background, var(--jp-layout-color0, white)));\n",
       "  --sklearn-color-border-box: var(--sg-text-color, var(--theme-code-foreground, var(--jp-content-font-color1, black)));\n",
       "  --sklearn-color-icon: #696969;\n",
       "\n",
       "  @media (prefers-color-scheme: dark) {\n",
       "    /* Redefinition of color scheme for dark theme */\n",
       "    --sklearn-color-text-on-default-background: var(--sg-text-color, var(--theme-code-foreground, var(--jp-content-font-color1, white)));\n",
       "    --sklearn-color-background: var(--sg-background-color, var(--theme-background, var(--jp-layout-color0, #111)));\n",
       "    --sklearn-color-border-box: var(--sg-text-color, var(--theme-code-foreground, var(--jp-content-font-color1, white)));\n",
       "    --sklearn-color-icon: #878787;\n",
       "  }\n",
       "}\n",
       "\n",
       "#sk-container-id-1 {\n",
       "  color: var(--sklearn-color-text);\n",
       "}\n",
       "\n",
       "#sk-container-id-1 pre {\n",
       "  padding: 0;\n",
       "}\n",
       "\n",
       "#sk-container-id-1 input.sk-hidden--visually {\n",
       "  border: 0;\n",
       "  clip: rect(1px 1px 1px 1px);\n",
       "  clip: rect(1px, 1px, 1px, 1px);\n",
       "  height: 1px;\n",
       "  margin: -1px;\n",
       "  overflow: hidden;\n",
       "  padding: 0;\n",
       "  position: absolute;\n",
       "  width: 1px;\n",
       "}\n",
       "\n",
       "#sk-container-id-1 div.sk-dashed-wrapped {\n",
       "  border: 1px dashed var(--sklearn-color-line);\n",
       "  margin: 0 0.4em 0.5em 0.4em;\n",
       "  box-sizing: border-box;\n",
       "  padding-bottom: 0.4em;\n",
       "  background-color: var(--sklearn-color-background);\n",
       "}\n",
       "\n",
       "#sk-container-id-1 div.sk-container {\n",
       "  /* jupyter's `normalize.less` sets `[hidden] { display: none; }`\n",
       "     but bootstrap.min.css set `[hidden] { display: none !important; }`\n",
       "     so we also need the `!important` here to be able to override the\n",
       "     default hidden behavior on the sphinx rendered scikit-learn.org.\n",
       "     See: https://github.com/scikit-learn/scikit-learn/issues/21755 */\n",
       "  display: inline-block !important;\n",
       "  position: relative;\n",
       "}\n",
       "\n",
       "#sk-container-id-1 div.sk-text-repr-fallback {\n",
       "  display: none;\n",
       "}\n",
       "\n",
       "div.sk-parallel-item,\n",
       "div.sk-serial,\n",
       "div.sk-item {\n",
       "  /* draw centered vertical line to link estimators */\n",
       "  background-image: linear-gradient(var(--sklearn-color-text-on-default-background), var(--sklearn-color-text-on-default-background));\n",
       "  background-size: 2px 100%;\n",
       "  background-repeat: no-repeat;\n",
       "  background-position: center center;\n",
       "}\n",
       "\n",
       "/* Parallel-specific style estimator block */\n",
       "\n",
       "#sk-container-id-1 div.sk-parallel-item::after {\n",
       "  content: \"\";\n",
       "  width: 100%;\n",
       "  border-bottom: 2px solid var(--sklearn-color-text-on-default-background);\n",
       "  flex-grow: 1;\n",
       "}\n",
       "\n",
       "#sk-container-id-1 div.sk-parallel {\n",
       "  display: flex;\n",
       "  align-items: stretch;\n",
       "  justify-content: center;\n",
       "  background-color: var(--sklearn-color-background);\n",
       "  position: relative;\n",
       "}\n",
       "\n",
       "#sk-container-id-1 div.sk-parallel-item {\n",
       "  display: flex;\n",
       "  flex-direction: column;\n",
       "}\n",
       "\n",
       "#sk-container-id-1 div.sk-parallel-item:first-child::after {\n",
       "  align-self: flex-end;\n",
       "  width: 50%;\n",
       "}\n",
       "\n",
       "#sk-container-id-1 div.sk-parallel-item:last-child::after {\n",
       "  align-self: flex-start;\n",
       "  width: 50%;\n",
       "}\n",
       "\n",
       "#sk-container-id-1 div.sk-parallel-item:only-child::after {\n",
       "  width: 0;\n",
       "}\n",
       "\n",
       "/* Serial-specific style estimator block */\n",
       "\n",
       "#sk-container-id-1 div.sk-serial {\n",
       "  display: flex;\n",
       "  flex-direction: column;\n",
       "  align-items: center;\n",
       "  background-color: var(--sklearn-color-background);\n",
       "  padding-right: 1em;\n",
       "  padding-left: 1em;\n",
       "}\n",
       "\n",
       "\n",
       "/* Toggleable style: style used for estimator/Pipeline/ColumnTransformer box that is\n",
       "clickable and can be expanded/collapsed.\n",
       "- Pipeline and ColumnTransformer use this feature and define the default style\n",
       "- Estimators will overwrite some part of the style using the `sk-estimator` class\n",
       "*/\n",
       "\n",
       "/* Pipeline and ColumnTransformer style (default) */\n",
       "\n",
       "#sk-container-id-1 div.sk-toggleable {\n",
       "  /* Default theme specific background. It is overwritten whether we have a\n",
       "  specific estimator or a Pipeline/ColumnTransformer */\n",
       "  background-color: var(--sklearn-color-background);\n",
       "}\n",
       "\n",
       "/* Toggleable label */\n",
       "#sk-container-id-1 label.sk-toggleable__label {\n",
       "  cursor: pointer;\n",
       "  display: block;\n",
       "  width: 100%;\n",
       "  margin-bottom: 0;\n",
       "  padding: 0.5em;\n",
       "  box-sizing: border-box;\n",
       "  text-align: center;\n",
       "}\n",
       "\n",
       "#sk-container-id-1 label.sk-toggleable__label-arrow:before {\n",
       "  /* Arrow on the left of the label */\n",
       "  content: \"▸\";\n",
       "  float: left;\n",
       "  margin-right: 0.25em;\n",
       "  color: var(--sklearn-color-icon);\n",
       "}\n",
       "\n",
       "#sk-container-id-1 label.sk-toggleable__label-arrow:hover:before {\n",
       "  color: var(--sklearn-color-text);\n",
       "}\n",
       "\n",
       "/* Toggleable content - dropdown */\n",
       "\n",
       "#sk-container-id-1 div.sk-toggleable__content {\n",
       "  max-height: 0;\n",
       "  max-width: 0;\n",
       "  overflow: hidden;\n",
       "  text-align: left;\n",
       "  /* unfitted */\n",
       "  background-color: var(--sklearn-color-unfitted-level-0);\n",
       "}\n",
       "\n",
       "#sk-container-id-1 div.sk-toggleable__content.fitted {\n",
       "  /* fitted */\n",
       "  background-color: var(--sklearn-color-fitted-level-0);\n",
       "}\n",
       "\n",
       "#sk-container-id-1 div.sk-toggleable__content pre {\n",
       "  margin: 0.2em;\n",
       "  border-radius: 0.25em;\n",
       "  color: var(--sklearn-color-text);\n",
       "  /* unfitted */\n",
       "  background-color: var(--sklearn-color-unfitted-level-0);\n",
       "}\n",
       "\n",
       "#sk-container-id-1 div.sk-toggleable__content.fitted pre {\n",
       "  /* unfitted */\n",
       "  background-color: var(--sklearn-color-fitted-level-0);\n",
       "}\n",
       "\n",
       "#sk-container-id-1 input.sk-toggleable__control:checked~div.sk-toggleable__content {\n",
       "  /* Expand drop-down */\n",
       "  max-height: 200px;\n",
       "  max-width: 100%;\n",
       "  overflow: auto;\n",
       "}\n",
       "\n",
       "#sk-container-id-1 input.sk-toggleable__control:checked~label.sk-toggleable__label-arrow:before {\n",
       "  content: \"▾\";\n",
       "}\n",
       "\n",
       "/* Pipeline/ColumnTransformer-specific style */\n",
       "\n",
       "#sk-container-id-1 div.sk-label input.sk-toggleable__control:checked~label.sk-toggleable__label {\n",
       "  color: var(--sklearn-color-text);\n",
       "  background-color: var(--sklearn-color-unfitted-level-2);\n",
       "}\n",
       "\n",
       "#sk-container-id-1 div.sk-label.fitted input.sk-toggleable__control:checked~label.sk-toggleable__label {\n",
       "  background-color: var(--sklearn-color-fitted-level-2);\n",
       "}\n",
       "\n",
       "/* Estimator-specific style */\n",
       "\n",
       "/* Colorize estimator box */\n",
       "#sk-container-id-1 div.sk-estimator input.sk-toggleable__control:checked~label.sk-toggleable__label {\n",
       "  /* unfitted */\n",
       "  background-color: var(--sklearn-color-unfitted-level-2);\n",
       "}\n",
       "\n",
       "#sk-container-id-1 div.sk-estimator.fitted input.sk-toggleable__control:checked~label.sk-toggleable__label {\n",
       "  /* fitted */\n",
       "  background-color: var(--sklearn-color-fitted-level-2);\n",
       "}\n",
       "\n",
       "#sk-container-id-1 div.sk-label label.sk-toggleable__label,\n",
       "#sk-container-id-1 div.sk-label label {\n",
       "  /* The background is the default theme color */\n",
       "  color: var(--sklearn-color-text-on-default-background);\n",
       "}\n",
       "\n",
       "/* On hover, darken the color of the background */\n",
       "#sk-container-id-1 div.sk-label:hover label.sk-toggleable__label {\n",
       "  color: var(--sklearn-color-text);\n",
       "  background-color: var(--sklearn-color-unfitted-level-2);\n",
       "}\n",
       "\n",
       "/* Label box, darken color on hover, fitted */\n",
       "#sk-container-id-1 div.sk-label.fitted:hover label.sk-toggleable__label.fitted {\n",
       "  color: var(--sklearn-color-text);\n",
       "  background-color: var(--sklearn-color-fitted-level-2);\n",
       "}\n",
       "\n",
       "/* Estimator label */\n",
       "\n",
       "#sk-container-id-1 div.sk-label label {\n",
       "  font-family: monospace;\n",
       "  font-weight: bold;\n",
       "  display: inline-block;\n",
       "  line-height: 1.2em;\n",
       "}\n",
       "\n",
       "#sk-container-id-1 div.sk-label-container {\n",
       "  text-align: center;\n",
       "}\n",
       "\n",
       "/* Estimator-specific */\n",
       "#sk-container-id-1 div.sk-estimator {\n",
       "  font-family: monospace;\n",
       "  border: 1px dotted var(--sklearn-color-border-box);\n",
       "  border-radius: 0.25em;\n",
       "  box-sizing: border-box;\n",
       "  margin-bottom: 0.5em;\n",
       "  /* unfitted */\n",
       "  background-color: var(--sklearn-color-unfitted-level-0);\n",
       "}\n",
       "\n",
       "#sk-container-id-1 div.sk-estimator.fitted {\n",
       "  /* fitted */\n",
       "  background-color: var(--sklearn-color-fitted-level-0);\n",
       "}\n",
       "\n",
       "/* on hover */\n",
       "#sk-container-id-1 div.sk-estimator:hover {\n",
       "  /* unfitted */\n",
       "  background-color: var(--sklearn-color-unfitted-level-2);\n",
       "}\n",
       "\n",
       "#sk-container-id-1 div.sk-estimator.fitted:hover {\n",
       "  /* fitted */\n",
       "  background-color: var(--sklearn-color-fitted-level-2);\n",
       "}\n",
       "\n",
       "/* Specification for estimator info (e.g. \"i\" and \"?\") */\n",
       "\n",
       "/* Common style for \"i\" and \"?\" */\n",
       "\n",
       ".sk-estimator-doc-link,\n",
       "a:link.sk-estimator-doc-link,\n",
       "a:visited.sk-estimator-doc-link {\n",
       "  float: right;\n",
       "  font-size: smaller;\n",
       "  line-height: 1em;\n",
       "  font-family: monospace;\n",
       "  background-color: var(--sklearn-color-background);\n",
       "  border-radius: 1em;\n",
       "  height: 1em;\n",
       "  width: 1em;\n",
       "  text-decoration: none !important;\n",
       "  margin-left: 1ex;\n",
       "  /* unfitted */\n",
       "  border: var(--sklearn-color-unfitted-level-1) 1pt solid;\n",
       "  color: var(--sklearn-color-unfitted-level-1);\n",
       "}\n",
       "\n",
       ".sk-estimator-doc-link.fitted,\n",
       "a:link.sk-estimator-doc-link.fitted,\n",
       "a:visited.sk-estimator-doc-link.fitted {\n",
       "  /* fitted */\n",
       "  border: var(--sklearn-color-fitted-level-1) 1pt solid;\n",
       "  color: var(--sklearn-color-fitted-level-1);\n",
       "}\n",
       "\n",
       "/* On hover */\n",
       "div.sk-estimator:hover .sk-estimator-doc-link:hover,\n",
       ".sk-estimator-doc-link:hover,\n",
       "div.sk-label-container:hover .sk-estimator-doc-link:hover,\n",
       ".sk-estimator-doc-link:hover {\n",
       "  /* unfitted */\n",
       "  background-color: var(--sklearn-color-unfitted-level-3);\n",
       "  color: var(--sklearn-color-background);\n",
       "  text-decoration: none;\n",
       "}\n",
       "\n",
       "div.sk-estimator.fitted:hover .sk-estimator-doc-link.fitted:hover,\n",
       ".sk-estimator-doc-link.fitted:hover,\n",
       "div.sk-label-container:hover .sk-estimator-doc-link.fitted:hover,\n",
       ".sk-estimator-doc-link.fitted:hover {\n",
       "  /* fitted */\n",
       "  background-color: var(--sklearn-color-fitted-level-3);\n",
       "  color: var(--sklearn-color-background);\n",
       "  text-decoration: none;\n",
       "}\n",
       "\n",
       "/* Span, style for the box shown on hovering the info icon */\n",
       ".sk-estimator-doc-link span {\n",
       "  display: none;\n",
       "  z-index: 9999;\n",
       "  position: relative;\n",
       "  font-weight: normal;\n",
       "  right: .2ex;\n",
       "  padding: .5ex;\n",
       "  margin: .5ex;\n",
       "  width: min-content;\n",
       "  min-width: 20ex;\n",
       "  max-width: 50ex;\n",
       "  color: var(--sklearn-color-text);\n",
       "  box-shadow: 2pt 2pt 4pt #999;\n",
       "  /* unfitted */\n",
       "  background: var(--sklearn-color-unfitted-level-0);\n",
       "  border: .5pt solid var(--sklearn-color-unfitted-level-3);\n",
       "}\n",
       "\n",
       ".sk-estimator-doc-link.fitted span {\n",
       "  /* fitted */\n",
       "  background: var(--sklearn-color-fitted-level-0);\n",
       "  border: var(--sklearn-color-fitted-level-3);\n",
       "}\n",
       "\n",
       ".sk-estimator-doc-link:hover span {\n",
       "  display: block;\n",
       "}\n",
       "\n",
       "/* \"?\"-specific style due to the `<a>` HTML tag */\n",
       "\n",
       "#sk-container-id-1 a.estimator_doc_link {\n",
       "  float: right;\n",
       "  font-size: 1rem;\n",
       "  line-height: 1em;\n",
       "  font-family: monospace;\n",
       "  background-color: var(--sklearn-color-background);\n",
       "  border-radius: 1rem;\n",
       "  height: 1rem;\n",
       "  width: 1rem;\n",
       "  text-decoration: none;\n",
       "  /* unfitted */\n",
       "  color: var(--sklearn-color-unfitted-level-1);\n",
       "  border: var(--sklearn-color-unfitted-level-1) 1pt solid;\n",
       "}\n",
       "\n",
       "#sk-container-id-1 a.estimator_doc_link.fitted {\n",
       "  /* fitted */\n",
       "  border: var(--sklearn-color-fitted-level-1) 1pt solid;\n",
       "  color: var(--sklearn-color-fitted-level-1);\n",
       "}\n",
       "\n",
       "/* On hover */\n",
       "#sk-container-id-1 a.estimator_doc_link:hover {\n",
       "  /* unfitted */\n",
       "  background-color: var(--sklearn-color-unfitted-level-3);\n",
       "  color: var(--sklearn-color-background);\n",
       "  text-decoration: none;\n",
       "}\n",
       "\n",
       "#sk-container-id-1 a.estimator_doc_link.fitted:hover {\n",
       "  /* fitted */\n",
       "  background-color: var(--sklearn-color-fitted-level-3);\n",
       "}\n",
       "</style><div id=\"sk-container-id-1\" class=\"sk-top-container\"><div class=\"sk-text-repr-fallback\"><pre>RandomForestClassifier()</pre><b>In a Jupyter environment, please rerun this cell to show the HTML representation or trust the notebook. <br />On GitHub, the HTML representation is unable to render, please try loading this page with nbviewer.org.</b></div><div class=\"sk-container\" hidden><div class=\"sk-item\"><div class=\"sk-estimator fitted sk-toggleable\"><input class=\"sk-toggleable__control sk-hidden--visually\" id=\"sk-estimator-id-1\" type=\"checkbox\" checked><label for=\"sk-estimator-id-1\" class=\"sk-toggleable__label fitted sk-toggleable__label-arrow fitted\">&nbsp;&nbsp;RandomForestClassifier<a class=\"sk-estimator-doc-link fitted\" rel=\"noreferrer\" target=\"_blank\" href=\"https://scikit-learn.org/1.4/modules/generated/sklearn.ensemble.RandomForestClassifier.html\">?<span>Documentation for RandomForestClassifier</span></a><span class=\"sk-estimator-doc-link fitted\">i<span>Fitted</span></span></label><div class=\"sk-toggleable__content fitted\"><pre>RandomForestClassifier()</pre></div> </div></div></div></div>"
      ],
      "text/plain": [
       "RandomForestClassifier()"
      ]
     },
     "execution_count": 36,
     "metadata": {},
     "output_type": "execute_result"
    }
   ],
   "source": [
    "# Create and train\n",
    "model = RandomForestClassifier(n_estimators=100)\n",
    "model.fit(X_train, y_train)"
   ]
  },
  {
   "cell_type": "code",
   "execution_count": 37,
   "id": "663b271f-8a0b-4acc-820b-2d097cb2658e",
   "metadata": {},
   "outputs": [
    {
     "name": "stdout",
     "output_type": "stream",
     "text": [
      "Accuracy: 0.6419213973799127\n"
     ]
    }
   ],
   "source": [
    "# Test and evaluate\n",
    "predictions = model.predict(X_test)\n",
    "accuracy = accuracy_score(y_test, predictions)\n",
    "print(\"Accuracy:\", accuracy)"
   ]
  },
  {
   "cell_type": "code",
   "execution_count": 38,
   "id": "3a72fd45-7ad9-4523-963d-a37378d2fa0e",
   "metadata": {},
   "outputs": [
    {
     "name": "stdout",
     "output_type": "stream",
     "text": [
      "Prediction: 6\n"
     ]
    }
   ],
   "source": [
    "X_tests = [[7.4, 0.00, 0.00, 1.0, 0.06, 1.0, 34.0, 0.98, 2, 0.56, 2.0]]\n",
    "col =[\"fixed acidity\", \"volatile acidity\", \"citric acid\", \n",
    "                             \"residual sugar\", \"chlorides\", \"free sulfur dioxide\",\n",
    "                             \"total sulfur dioxide\", \"density\", \"pH\", \"sulphates\", \"alcohol\"]\n",
    "X_tests = pd.DataFrame(X_test,columns = col)\n",
    "\n",
    "# make prediction\n",
    "prediction = model.predict(X_tests)\n",
    "print(\"Prediction:\", prediction[0])"
   ]
  }
 ],
 "metadata": {
  "kernelspec": {
   "display_name": "Python 3 (ipykernel)",
   "language": "python",
   "name": "python3"
  },
  "language_info": {
   "codemirror_mode": {
    "name": "ipython",
    "version": 3
   },
   "file_extension": ".py",
   "mimetype": "text/x-python",
   "name": "python",
   "nbconvert_exporter": "python",
   "pygments_lexer": "ipython3",
   "version": "3.12.4"
  }
 },
 "nbformat": 4,
 "nbformat_minor": 5
}
